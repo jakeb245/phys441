{
 "cells": [
  {
   "cell_type": "markdown",
   "metadata": {},
   "source": [
    "# Log Likelihood Example"
   ]
  },
  {
   "cell_type": "code",
   "execution_count": 1,
   "metadata": {
    "ExecuteTime": {
     "end_time": "2023-11-03T14:33:43.003198Z",
     "start_time": "2023-11-03T14:33:42.454719Z"
    }
   },
   "outputs": [],
   "source": [
    "import numpy as np\n",
    "import matplotlib.pyplot as plt"
   ]
  },
  {
   "cell_type": "markdown",
   "source": [
    "# Background\n",
    "\n",
    "## Gregor Mendel was an Austrian monk who studied the inheritance of traits in pea plants. He crossed plants with different traits and counted the number of offspring with each trait. He then developed a theory of inheritance based on the idea that each trait was controlled by a pair of factors (now called genes) and that each parent contributed one factor to each offspring. He also proposed that the factors controlling each trait were independent of each other. This theory is now called Mendelian inheritance.\n",
    "\n",
    "## Mendel's theory predicts that if you cross two plants that are heterozygous for a trait, then 3/4 of the offspring will have the dominant trait and 1/4 will have the recessive trait. For example, if you cross a plant with yellow seeds (YY) with a plant with green seeds (yy), then the offspring will have yellow seeds (Yy). If you cross two of these offspring, then 3/4 of the offspring will have yellow seeds and 1/4 will have green seeds.\n",
    "\n",
    "## Mendel performed many crosses and counted the number of offspring with each trait. He found that the number of offspring with each trait was close to the predicted number, but not exactly the same. For example, he found that 6022 of the offspring from the cross above had yellow seeds and 2001 had green seeds. He also found that the number of offspring with each trait was close to the predicted number for all of the traits that he studied.\n",
    "\n",
    "## Mendel's theory predicts that the number of offspring with each trait will be exactly the predicted number if you perform an infinite number of crosses. However, it is not possible to perform an infinite number of crosses. Instead, you can perform a large number of crosses and compare the number of offspring with each trait to the predicted number. If the number of offspring with each trait is close to the predicted number, then you can conclude that the factors controlling each trait are independent of each other. If the number of offspring with each trait is not close to the predicted number, then you can conclude that the factors controlling each trait are not independent of each other.\n",
    "\n",
    "## The number of offspring with each trait is called the observed number. The predicted number is called the expected number. The difference between the observed number and the expected number is called the residual. The sum of the squared residuals is called the chi-square statistic. The chi-square statistic is used to test the hypothesis that the factors controlling each trait are independent of each other.\n",
    "\n",
    "## The chi-square statistic is calculated as follows:\n",
    "\n",
    "## chi-square = sum of (observed - expected)^2 / expected\n",
    "\n",
    "# Mathematical Derivation\n",
    "\n",
    "## Imagine an experiment with four possible outcomes. Let p1, p2, p3, and p4 be the probabilities of the four outcomes. Let n1, n2, n3, and n4 be the number of times each outcome occurs. The probability of observing n1, n2, n3, and n4 is given by:\n",
    "\n",
    "## $$P = (p_1^{n_1}) \\cdot (p_2^{n_2}) \\cdot (p_3^{n_3}) \\cdot (p_4^{n_4})$$\n",
    "\n",
    "## The key question is:  what are the underlying probabilities?\n",
    "\n",
    "## Example:  Flipping a coin twice\n",
    "\n",
    "## Let p = probability of heads = 0.5\n",
    "## Let q = probability of tails = 0.5\n",
    "\n",
    "## The four possible outcomes are:\n",
    "\n",
    "## 1.  HH: p1 = p*p = p^2\n",
    "## 2. HT: p2 = p*q = pq\n",
    "## 3. TH: p3 = q*p = qp\n",
    "## 4. TT: p4 = q*q = q^2\n",
    "\n",
    "## The probability of observing n1, n2, n3, and n4 is given by:\n",
    "\n",
    "## $$P = p_1^{n_1} \\cdot p_2^{n_2} \\cdot p_3^{n_3} \\cdot p_4^{n_4}$$\n",
    "## $$P = (p^2)^{n_1} \\cdot (pq)^{n_2} \\cdot (qp)^{n_3} \\cdot (q^2)^{n_4}$$\n",
    "## $$P = p^{(2n_1 + n_2 + n_3)} \\cdot q^{(n_2+n_3+2n_4)}$$\n",
    "## $$P = p^{(2n_1 + n_2 + n_3)} \\cdot (1-p)^{(n_2+n_3+2n_4)}$$\n",
    "\n",
    "## Which values of n1, n2, n3, and n4 maximize P?\n",
    "\n",
    "## We can solve this as follows:\n",
    "\n",
    "## $$log(P) = (2n_1 + n_2 + n_3) log(p) + (n_2 + n_3 + 2n_4) log(1-p)$$\n",
    "## $$\\frac{d(log(P)}{dp} = \\frac{(2n_1 + n_2 + n_3)}{p} - \\frac{(n_2 + n_3 + 2n_4)}{(1-p)} = 0$$\n",
    "## $$(2n_1 + n_2 + n_3)(1-p) = (n_2 + n_3 + 2n_4)(p)$$\n",
    "\n",
    "## $$p = \\frac{(2n_1 + n_2 + n_3)}{((2n_1 + n_2 + n_3) + (n_2 + n_3 + 2n_4))$$\n",
    "## $$p = \\frac{(2n_1 + n_2 + n_3)}{(2n)}$$\n",
    "\n",
    "\n",
    "    \n",
    "\n",
    "\n",
    "\n",
    "\n",
    "\n"
   ],
   "metadata": {
    "collapsed": false
   }
  },
  {
   "cell_type": "code",
   "execution_count": 2,
   "outputs": [
    {
     "name": "stdout",
     "output_type": "stream",
     "text": [
      "p =  0.4819277108433735  which is not quite the same as p = 0.5\n"
     ]
    }
   ],
   "source": [
    "#Sample Data\n",
    "\n",
    "n1 = 15\n",
    "n2 = 26\n",
    "n3 = 24\n",
    "n4 = 18\n",
    "\n",
    "ntotal = n1+n2+n3+n4\n",
    "\n",
    "p = (2*n1+n2+n3)/(2*ntotal)\n",
    "print(\"p = \",p,\" which is not quite the same as p = 0.5\")"
   ],
   "metadata": {
    "collapsed": false,
    "ExecuteTime": {
     "end_time": "2023-11-03T14:33:43.914083Z",
     "start_time": "2023-11-03T14:33:43.902496Z"
    }
   }
  },
  {
   "cell_type": "markdown",
   "source": [
    "## Chi-Square Test\n",
    "\n",
    "The chi-square test is used to test the hypothesis that the factors controlling each trait are independent of each other. The chi-square statistic is calculated as follows:\n",
    "\n",
    "chi-square = sum of (observed - expected)^2 / expected\n",
    "\n",
    "In this case, we can calculate this as:\n",
    "\n",
    "$$\\chi^2 = \\frac{(n_1 - n_1^t)^2}{n_1^t} + \\frac{(n_2 - n_2^t)^2}{n_2^t} + \\frac{(n_3 - n_3^t)^2}{n_3^t} + \\frac{(n_4 - n_4^t)^2}{n_4^t}$$\n",
    "\n",
    "where n1t, n2t, n3t, and n4t are the expected number of offspring with each trait."
   ],
   "metadata": {
    "collapsed": false
   }
  },
  {
   "cell_type": "code",
   "execution_count": 4,
   "outputs": [
    {
     "name": "stdout",
     "output_type": "stream",
     "text": [
      "19.277108433734938 20.722891566265062 20.722891566265062 22.27710843373494\n",
      "Chi^2 =  3.6322319497025406\n",
      "ndof =  3\n",
      "pvalue =  0.3040126740138489\n",
      "Since P < 0.95, we reject the null hypothesis that this process is governed by a simple p = 0.5 underlying model.\n"
     ]
    }
   ],
   "source": [
    "n1t = ntotal*p**2\n",
    "n2t = ntotal*p*(1-p)\n",
    "n3t = ntotal*p*(1-p)\n",
    "n4t = ntotal*(1-p)**2\n",
    "\n",
    "print(n1t,n2t,n3t,n4t)\n",
    "\n",
    "chi2 = pow((n1-n1t),2)/n1t + pow((n2-n2t),2)/n2t + pow((n3-n3t),2)/n3t + pow((n4-n4t),2)/n4t\n",
    "\n",
    "print(\"Chi^2 = \",chi2)\n",
    "\n",
    "ndof = 4-1\n",
    "print(\"ndof = \",ndof)\n",
    "\n",
    "from scipy import stats\n",
    "\n",
    "pvalue = 1.0 - stats.chi2.cdf(chi2,ndof)\n",
    "\n",
    "print(\"pvalue = \",pvalue)\n",
    "\n",
    "print(\"Since P < 0.95, we reject the null hypothesis that this process is governed by a simple p = 0.5 underlying model.\")"
   ],
   "metadata": {
    "collapsed": false,
    "ExecuteTime": {
     "end_time": "2023-11-03T14:35:12.287394Z",
     "start_time": "2023-11-03T14:35:12.276652Z"
    }
   }
  },
  {
   "cell_type": "markdown",
   "source": [
    "# A better model\n",
    "\n",
    "This data is actually from the results of the NHL Stanley Cup Final series over the last 83 years!  It represents the number of games played before a winner was declared.  The data is from <https://www.hockey-reference.com/playoffs/playoff-results.html>\n",
    "\n",
    "The data is as follows:\n",
    "\n",
    "n1 = 15:  4 games\n",
    "n2 = 26:  5 games\n",
    "n3 = 24:  6 games\n",
    "n4 = 18:  7 games\n",
    "\n",
    "Let p = probability that the \"better\" team wins a game\n",
    "Let q = probability that the \"worse\" team wins a game\n",
    "\n",
    "The four possible outcomes are:\n",
    "\n",
    "1. Four Games\n",
    "\n",
    "$$p_1 = p^4 + q^4$$\n",
    "   \n",
    "2. Five Games\n",
    "\n",
    "$$p_2 = {4 \\choose 3} (p^3 q p + q^3 p q)$$\n",
    "$$ = 4 p q (p^3 + q^3)$$\n",
    "\n",
    "3. Six Games\n",
    "\n",
    "$$p_3 = {5 \\choose 3} (p^3 q^2 p + q^3 p^2 q)$$\n",
    "$$ = 10 p^2 q^2 (p^2 + q^2)$$\n",
    "\n",
    "4. Seven Games\n",
    "\n",
    "$$p_4 = {6 \\choose 3} (p^3 q^3 p + q^3 p^3 q)$$\n",
    "$$ = 20 p^3 q^3$$\n",
    "\n",
    "The probability of observing n1, n2, n3, and n4 is given by:\n",
    "\n",
    "$$P = p_1^{n_1} \\cdot p_2^{n_2} \\cdot p_3^{n_3} \\cdot p_4^{n_4}$$\n",
    "$$P = (p^4 + q^4)^{n_1} \\cdot (4 p q (p^3 + q^3))^{n_2} \\cdot (10 p^2 q^2 (p^2 + q^2))^{n_3} \\cdot (20 p^3 q^3)^{n_4}$$\n",
    "\n",
    "Which values of p and q maximize P?\n",
    "\n",
    "This is super hard to solve, even with log-likehood methods.  So, we will use a numerical method to find the maximum likelihood values of p and q."
   ],
   "metadata": {
    "collapsed": false
   }
  },
  {
   "cell_type": "code",
   "execution_count": 5,
   "metadata": {
    "ExecuteTime": {
     "end_time": "2023-11-03T14:48:51.782110Z",
     "start_time": "2023-11-03T14:48:51.568665Z"
    }
   },
   "outputs": [
    {
     "name": "stdout",
     "output_type": "stream",
     "text": [
      "p =  0.6541  prob =  1.0\n",
      "15 26 24 18\n",
      "16.4 24.1 23.3 19.2\n",
      "Chi^2 =  0.36299728724814306\n",
      "ndof =  3\n",
      "pvalue =  0.9477757015099199\n",
      "Since P >= 0.95, we accept the null hypothesis that this process is governed by better team/worse team model.\n"
     ]
    },
    {
     "data": {
      "text/plain": "<Figure size 640x480 with 1 Axes>",
      "image/png": "[encoded data removed]"
     },
     "metadata": {},
     "output_type": "display_data"
    }
   ],
   "source": [
    "n1 = 15\n",
    "n2 = 26\n",
    "n3 = 24\n",
    "n4 = 18\n",
    "\n",
    "ntotal = n1+n2+n3+n4\n",
    "\n",
    "niter=10000;\n",
    "p = []\n",
    "q = []\n",
    "prob = []\n",
    "\n",
    "pmax=0.0\n",
    "imax = 0\n",
    "\n",
    "for i in range(niter):\n",
    "    p.append(1.0*i/niter)\n",
    "    q.append(1.0 - p[i])\n",
    "    \n",
    "    p1 = pow(p[i],4)+pow(q[i],4)\n",
    "    p2 = 4.0*p[i]*q[i]*(pow(p[i],3) + pow(q[i],3))\n",
    "    p3 = 10.0*pow(p[i],2)*pow(q[i],2)*(pow(p[i],2) + pow(q[i],2))\n",
    "    p4 = 20.0*pow(p[i],3)*pow(q[i],3)\n",
    "    \n",
    "    #p1 = p[i]**2\n",
    "    #p2 = p[i]*q[i]\n",
    "    #p3 = q[i]*p[i]\n",
    "    #p4 = q[i]**2\n",
    "    \n",
    "    prob.append(pow(p1,n1)*pow(p2,n2)*pow(p3,n3)*pow(p4,n4))\n",
    "    if (prob[i] >= pmax and p[i] > 0.5):\n",
    "        pmax = prob[i]\n",
    "        imax = i\n",
    "\n",
    "prob = np.array(prob)\n",
    "p = np.array(p)\n",
    "\n",
    "prob = prob/pmax\n",
    "print (\"p = \",p[imax],\" prob = \",prob[imax])\n",
    "\n",
    "p1 = pow(p[imax],4)+pow(q[imax],4)\n",
    "p2 = 4.0*p[imax]*q[imax]*(pow(p[imax],3) + pow(q[imax],3))\n",
    "p3 = 10.0*pow(p[imax],2)*pow(q[imax],2)*(pow(p[imax],2) + pow(q[imax],2))\n",
    "p4 = 20.0*pow(p[imax],3)*pow(q[imax],3)\n",
    "\n",
    "#p1 = p[imax]**2\n",
    "#p2 = p[imax]*q[imax]\n",
    "#p3 = q[imax]*p[imax]\n",
    "#p4 = q[imax]**2\n",
    "\n",
    "n1t = ntotal*p1\n",
    "n2t = ntotal*p2\n",
    "n3t = ntotal*p3\n",
    "n4t = ntotal*p4\n",
    "chi2 = pow((n1-n1t),2)/n1t\n",
    "chi2 += pow((n2-n2t),2)/n2t\n",
    "chi2 += pow((n3-n3t),2)/n3t\n",
    "chi2 += pow((n4-n4t),2)/n4t\n",
    "\n",
    "print (n1,n2,n3,n4)\n",
    "print (f\"%.1f %.1f %.1f %.1f\" % (n1t,n2t,n3t,n4t))\n",
    "print (\"Chi^2 = \",chi2)\n",
    "\n",
    "ndof = 4-1\n",
    "print (\"ndof = \",ndof)\n",
    "\n",
    "from scipy import stats\n",
    "\n",
    "pvalue = 1.0 - stats.chi2.cdf(chi2,ndof)\n",
    "\n",
    "print(\"pvalue = \",pvalue)\n",
    "\n",
    "print(\"Since P >= 0.95, we accept the null hypothesis that this process is governed by better team/worse team model.\")\n",
    "\n",
    "plt.plot(p,prob)\n",
    "plt.show()"
   ]
  },
  {
   "cell_type": "code",
   "execution_count": 12,
   "metadata": {
    "ExecuteTime": {
     "end_time": "2023-11-03T14:33:29.616464Z",
     "start_time": "2023-11-03T14:33:29.572967Z"
    }
   },
   "outputs": [],
   "source": []
  },
  {
   "cell_type": "code",
   "execution_count": 12,
   "metadata": {
    "ExecuteTime": {
     "end_time": "2023-11-03T14:33:29.616629Z",
     "start_time": "2023-11-03T14:33:29.584733Z"
    }
   },
   "outputs": [],
   "source": []
  },
  {
   "cell_type": "code",
   "execution_count": 12,
   "metadata": {
    "ExecuteTime": {
     "end_time": "2023-11-03T14:33:29.616709Z",
     "start_time": "2023-11-03T14:33:29.588705Z"
    }
   },
   "outputs": [],
   "source": []
  }
 ],
 "metadata": {
  "kernelspec": {
   "display_name": "Python 3",
   "language": "python",
   "name": "python3"
  },
  "language_info": {
   "codemirror_mode": {
    "name": "ipython",
    "version": 3
   },
   "file_extension": ".py",
   "mimetype": "text/x-python",
   "name": "python",
   "nbconvert_exporter": "python",
   "pygments_lexer": "ipython3",
   "version": "3.6.8"
  }
 },
 "nbformat": 4,
 "nbformat_minor": 2
}
