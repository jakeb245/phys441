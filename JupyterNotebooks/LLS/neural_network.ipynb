{
 "cells": [
  {
   "cell_type": "code",
   "execution_count": 1,
   "id": "initial_id",
   "metadata": {
    "collapsed": true,
    "ExecuteTime": {
     "end_time": "2023-10-31T13:43:00.225047Z",
     "start_time": "2023-10-31T13:42:58.036660Z"
    }
   },
   "outputs": [],
   "source": [
    "import numpy as np\n",
    "import pandas as pd\n",
    "import matplotlib.pyplot as plt\n",
    "import statsmodels.formula.api as smf"
   ]
  },
  {
   "cell_type": "code",
   "execution_count": 2,
   "outputs": [],
   "source": [
    "# generate the data set\n",
    "\n",
    "# number of data points\n",
    "n = 10000\n",
    "\n",
    "x = np.zeros(n)\n",
    "y = np.zeros(n)\n",
    "v = np.zeros(n)\n",
    "result = np.zeros(n)\n",
    "\n",
    "for i in range(n):\n",
    "    x[i] = np.random.randint(0, 2)\n",
    "    y[i] = np.random.randint(0, 2)\n",
    "    v[i] = np.random.randint(0, 2)\n",
    "    z = x[i] + y[i]\n",
    "    if z == 0:\n",
    "        if v[i] == 0:\n",
    "            result[i] = 1\n",
    "        else:\n",
    "            result[i] = 0\n",
    "    elif z == 1:\n",
    "        result[i] = 0\n",
    "    elif z == 2:\n",
    "        result[i] = 1\n",
    "    else:\n",
    "        print('error')\n",
    "        \n",
    "    #print (i, x[i], y[i], v[i], result[i])"
   ],
   "metadata": {
    "collapsed": false,
    "ExecuteTime": {
     "end_time": "2023-10-31T13:43:00.333802Z",
     "start_time": "2023-10-31T13:43:00.268122Z"
    }
   },
   "id": "ee0f94f41784cf5"
  },
  {
   "cell_type": "code",
   "execution_count": 3,
   "outputs": [],
   "source": [
    "df = pd.DataFrame(columns = ['x', 'y', 'v', 'result'])"
   ],
   "metadata": {
    "collapsed": false,
    "ExecuteTime": {
     "end_time": "2023-10-31T13:43:00.347053Z",
     "start_time": "2023-10-31T13:43:00.344925Z"
    }
   },
   "id": "64e871ac711ebcc6"
  },
  {
   "cell_type": "code",
   "execution_count": 4,
   "outputs": [
    {
     "data": {
      "text/plain": "     x    y    v  result\n0  0.0  1.0  0.0     0.0\n1  1.0  0.0  1.0     0.0\n2  0.0  1.0  0.0     0.0\n3  1.0  0.0  1.0     0.0\n4  1.0  1.0  1.0     1.0",
      "text/html": "<div>\n<style scoped>\n    .dataframe tbody tr th:only-of-type {\n        vertical-align: middle;\n    }\n\n    .dataframe tbody tr th {\n        vertical-align: top;\n    }\n\n    .dataframe thead th {\n        text-align: right;\n    }\n</style>\n<table border=\"1\" class=\"dataframe\">\n  <thead>\n    <tr style=\"text-align: right;\">\n      <th></th>\n      <th>x</th>\n      <th>y</th>\n      <th>v</th>\n      <th>result</th>\n    </tr>\n  </thead>\n  <tbody>\n    <tr>\n      <th>0</th>\n      <td>0.0</td>\n      <td>1.0</td>\n      <td>0.0</td>\n      <td>0.0</td>\n    </tr>\n    <tr>\n      <th>1</th>\n      <td>1.0</td>\n      <td>0.0</td>\n      <td>1.0</td>\n      <td>0.0</td>\n    </tr>\n    <tr>\n      <th>2</th>\n      <td>0.0</td>\n      <td>1.0</td>\n      <td>0.0</td>\n      <td>0.0</td>\n    </tr>\n    <tr>\n      <th>3</th>\n      <td>1.0</td>\n      <td>0.0</td>\n      <td>1.0</td>\n      <td>0.0</td>\n    </tr>\n    <tr>\n      <th>4</th>\n      <td>1.0</td>\n      <td>1.0</td>\n      <td>1.0</td>\n      <td>1.0</td>\n    </tr>\n  </tbody>\n</table>\n</div>"
     },
     "execution_count": 4,
     "metadata": {},
     "output_type": "execute_result"
    }
   ],
   "source": [
    "df['x'] = x\n",
    "df['y'] = y\n",
    "df['v'] = v\n",
    "df['result'] = result\n",
    "df.head()"
   ],
   "metadata": {
    "collapsed": false,
    "ExecuteTime": {
     "end_time": "2023-10-31T13:43:00.377751Z",
     "start_time": "2023-10-31T13:43:00.351612Z"
    }
   },
   "id": "724ffadf294e0ad2"
  },
  {
   "cell_type": "code",
   "execution_count": 5,
   "outputs": [
    {
     "name": "stdout",
     "output_type": "stream",
     "text": [
      "     x    y    v  result  Results_pred  Results_Residual\n",
      "0  0.0  1.0  0.0     0.0      0.123433         -0.123433\n",
      "1  1.0  0.0  1.0     0.0     -0.126125          0.126125\n",
      "2  0.0  1.0  0.0     0.0      0.123433         -0.123433\n",
      "3  1.0  0.0  1.0     0.0     -0.126125          0.126125\n",
      "4  1.0  1.0  1.0     1.0      1.125719         -0.125719\n",
      "                            OLS Regression Results                            \n",
      "==============================================================================\n",
      "Dep. Variable:                 result   R-squared:                       0.934\n",
      "Model:                            OLS   Adj. R-squared:                  0.933\n",
      "Method:                 Least Squares   F-statistic:                 2.338e+04\n",
      "Date:                Tue, 31 Oct 2023   Prob (F-statistic):               0.00\n",
      "Time:                        09:43:00   Log-Likelihood:                 6608.5\n",
      "No. Observations:               10000   AIC:                        -1.320e+04\n",
      "Df Residuals:                    9993   BIC:                        -1.315e+04\n",
      "Df Model:                           6                                         \n",
      "Covariance Type:            nonrobust                                         \n",
      "==============================================================================\n",
      "                 coef    std err          t      P>|t|      [0.025      0.975]\n",
      "------------------------------------------------------------------------------\n",
      "Intercept      0.8770      0.003    266.874      0.000       0.871       0.883\n",
      "x             -0.7581      0.004   -176.980      0.000      -0.767      -0.750\n",
      "y             -0.7535      0.004   -174.787      0.000      -0.762      -0.745\n",
      "v             -0.7478      0.004   -172.137      0.000      -0.756      -0.739\n",
      "x:y            1.5106      0.005    302.076      0.000       1.501       1.520\n",
      "x:v            0.5029      0.005    100.537      0.000       0.493       0.513\n",
      "y:v            0.4948      0.005     98.929      0.000       0.485       0.505\n",
      "==============================================================================\n",
      "Omnibus:                    34452.281   Durbin-Watson:                   2.012\n",
      "Prob(Omnibus):                  0.000   Jarque-Bera (JB):             1662.337\n",
      "Skew:                           0.011   Prob(JB):                         0.00\n",
      "Kurtosis:                       1.003   Cond. No.                         9.19\n",
      "==============================================================================\n",
      "\n",
      "Notes:\n",
      "[1] Standard Errors assume that the covariance matrix of the errors is correctly specified.\n"
     ]
    }
   ],
   "source": [
    "# Fit a linear regression model to a single parameter - Sales vs. TV advertising costs\n",
    "model = smf.ols('result ~ x + y + v + x*y + x*v + y*v', data=df)\n",
    "model = model.fit()\n",
    "\n",
    "# View model summary\n",
    "# print(model.summary())\n",
    "\n",
    "# Predict values\n",
    "results_pred = model.predict()\n",
    "\n",
    "# Add this prediction to the DataFrame\n",
    "df['Results_pred'] = results_pred\n",
    "# Add the DIFFERENCE between Sales data and prediction to the DataFrame\n",
    "df['Results_Residual'] = df['result'] - results_pred\n",
    "print(df.head())\n",
    "\n",
    "print(model.summary())"
   ],
   "metadata": {
    "collapsed": false,
    "ExecuteTime": {
     "end_time": "2023-10-31T13:43:00.484620Z",
     "start_time": "2023-10-31T13:43:00.380182Z"
    }
   },
   "id": "883f0d3b2a51e372"
  },
  {
   "cell_type": "code",
   "execution_count": 6,
   "outputs": [
    {
     "name": "stdout",
     "output_type": "stream",
     "text": [
      "   x  y  v  result  Results_pred  Results_Residual\n",
      "0  1  1  1       1           1.0               0.0\n",
      "1  1  1  0       1           1.0               0.0\n",
      "2  1  0  0       0           0.0               0.0\n",
      "3  1  0  1       0          -0.0               0.0\n",
      "4  0  1  0       0           0.0               0.0\n",
      "5  0  1  1       0          -0.0               0.0\n",
      "6  0  0  1       0           0.0               0.0\n",
      "7  0  0  0       1           1.0               0.0\n"
     ]
    }
   ],
   "source": [
    "xt = np.array([1, 1, 1, 1, 0, 0, 0, 0])\n",
    "yt = np.array([1, 1, 0, 0, 1, 1, 0, 0])\n",
    "vt = np.array([1, 0, 0, 1, 0, 1, 1, 0])\n",
    "resultt = np.array([1, 1, 0, 0, 0, 0, 0, 1])\n",
    "\n",
    "dft = pd.DataFrame(columns = ['x', 'y', 'v', 'result'])\n",
    "dft['x'] = xt\n",
    "dft['y'] = yt\n",
    "dft['v'] = vt\n",
    "dft['result'] = resultt\n",
    "\n",
    "results_predt = model.predict(dft)\n",
    "dft['Results_pred'] = np.round(results_predt)\n",
    "dft['Results_Residual'] = dft['result'] -  np.round(results_predt)\n",
    "print(dft.head(8))\n"
   ],
   "metadata": {
    "collapsed": false,
    "ExecuteTime": {
     "end_time": "2023-10-31T13:43:00.485176Z",
     "start_time": "2023-10-31T13:43:00.448855Z"
    }
   },
   "id": "7b95b5c90984b00"
  },
  {
   "cell_type": "markdown",
   "source": [],
   "metadata": {
    "collapsed": false
   },
   "id": "386720e9b9020f76"
  },
  {
   "cell_type": "code",
   "execution_count": 6,
   "outputs": [],
   "source": [],
   "metadata": {
    "collapsed": false,
    "ExecuteTime": {
     "end_time": "2023-10-31T13:43:00.485464Z",
     "start_time": "2023-10-31T13:43:00.455855Z"
    }
   },
   "id": "e09a417ab48bab7d"
  },
  {
   "cell_type": "code",
   "execution_count": 6,
   "outputs": [],
   "source": [],
   "metadata": {
    "collapsed": false,
    "ExecuteTime": {
     "end_time": "2023-10-31T13:43:00.485552Z",
     "start_time": "2023-10-31T13:43:00.461566Z"
    }
   },
   "id": "4c1761556653e2d0"
  }
 ],
 "metadata": {
  "kernelspec": {
   "display_name": "Python 3",
   "language": "python",
   "name": "python3"
  },
  "language_info": {
   "codemirror_mode": {
    "name": "ipython",
    "version": 2
   },
   "file_extension": ".py",
   "mimetype": "text/x-python",
   "name": "python",
   "nbconvert_exporter": "python",
   "pygments_lexer": "ipython2",
   "version": "2.7.6"
  }
 },
 "nbformat": 4,
 "nbformat_minor": 5
}
