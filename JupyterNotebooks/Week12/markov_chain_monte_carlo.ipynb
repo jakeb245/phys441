{
 "cells": [
  {
   "cell_type": "code",
   "execution_count": 16,
   "outputs": [],
   "source": [
    "# Define the acceptance ratio\n",
    "\n",
    "def acceptance_ratio(p, p_new):\n",
    "    return min(1, likelihood(p_new) * prior(p_new) / (likelihood(p) * prior(p)))"
   ],
   "metadata": {
    "collapsed": false,
    "ExecuteTime": {
     "end_time": "2023-11-08T14:51:25.974607Z",
     "start_time": "2023-11-08T14:51:25.967630Z"
    }
   },
   "id": "cdcde62c9e6cd36c"
  },
  {
   "cell_type": "code",
   "execution_count": 17,
   "outputs": [],
   "source": [
    "import numpy as np\n",
    "import scipy.stats as stats\n",
    "import matplotlib.pyplot as plt"
   ],
   "metadata": {
    "collapsed": false,
    "ExecuteTime": {
     "end_time": "2023-11-08T14:51:26.659571Z",
     "start_time": "2023-11-08T14:51:26.654780Z"
    }
   },
   "id": "initial_id"
  },
  {
   "cell_type": "code",
   "execution_count": 18,
   "outputs": [],
   "source": [
    "# Define the data for the first coin produced by the factory\n",
    "# We take this coin, flip it 100 times, and observe 57 heads and 43 tails\n",
    "x = 57\n",
    "n = 100\n",
    "\n",
    "# Define the Likelihood P(x|p) - binomial distribution\n",
    "def likelihood(p):\n",
    "    return stats.binom.pmf(x, n, p)"
   ],
   "metadata": {
    "collapsed": false,
    "ExecuteTime": {
     "end_time": "2023-11-08T14:51:27.365558Z",
     "start_time": "2023-11-08T14:51:27.360431Z"
    }
   },
   "id": "77e9b8ccd216071d"
  },
  {
   "cell_type": "code",
   "execution_count": 19,
   "outputs": [
    {
     "name": "stdout",
     "output_type": "stream",
     "text": [
      "0.0 1.0\n",
      "0.1 1.0\n",
      "0.2 1.0\n",
      "0.30000000000000004 1.0\n",
      "0.4 1.0\n",
      "0.5 1.0\n",
      "0.6000000000000001 1.0\n",
      "0.7000000000000001 1.0\n",
      "0.8 1.0\n",
      "0.9 1.0\n"
     ]
    }
   ],
   "source": [
    "# Define the prior P(p) - as we have never seen this coin before, we will assume a uniform distribution\n",
    "def prior(p):\n",
    "    return stats.uniform.pdf(p)\n",
    "\n",
    "for i in range(10):\n",
    "    print(i*0.1, prior(i*0.1))"
   ],
   "metadata": {
    "collapsed": false,
    "ExecuteTime": {
     "end_time": "2023-11-08T14:51:28.152748Z",
     "start_time": "2023-11-08T14:51:28.144820Z"
    }
   },
   "id": "3db0ee302eb866c8"
  },
  {
   "cell_type": "markdown",
   "source": [
    "# The Metropolis-Hastings MCMC\n",
    "\n",
    "As mentioned above, these methods draw samples from a continuous random variable — in our case for p. The MCMC we will use is of the random walk type, which randomly generates samples and keeps them or not based on how they fit the model.\n",
    "\n",
    "The Metropolis-Hastings algorithm is a Markov Chain Monte Carlo method for obtaining a sequence of random samples from a probability distribution for which direct sampling is difficult. This sequence can be used to approximate the distribution (e.g. to generate a histogram of the distribution); for example, the sequence can be used to approximate the posterior distribution in Bayesian inference.\n",
    "\n",
    "The algorithm is as follows:\n",
    "\n",
    "1. Propose a new value of p randomly between 0 and 1, call it p′ (or p_new).\n",
    "2. Compute the acceptance ratio, R.\n",
    "3. Generate another uniform random number between 0 and 1, call it u.\n",
    "4. If u < R, accept the new value and set p = p′. Otherwise, keep the current value of p.\n",
    "5. Record the final value of p for this sample.\n",
    "6. Repeat steps 1 through 5 many, many times.\n",
    "\n",
    "# Acceptance Ratio\n",
    "\n",
    "The Metropolis-Hastings algorithm is fairly straightforward, but first, we need to define how we will either accept or reject the new sample draw. Each iteration, a new value for p between 0 and 1 will be proposed, we will call this proposed value p′. We only want to accept and update this value if it is better than the previous. This is done by computing an acceptance ratio, R. This acceptance ratio is the ratio of our Bayes’ Theorem for the proposed value over the previous value and is shown below.\n",
    "\n",
    "\n"
   ],
   "metadata": {
    "collapsed": false
   },
   "id": "605c0aa3e09dbc03"
  },
  {
   "cell_type": "markdown",
   "source": [
    "# Burn-in\n",
    "\n",
    "MCMCs are initialized randomly and must converge towards the correct value, and this can often take quite a lot of samples. When plotting our results and posterior distribution, it is not effective to include these early samples before the model has converged. So we implement what is called a “burn-in”, in which those first, less accurate samples are excluded. Burn-in for MCMCs is typically around 2000–5000 samples when the entire chain is around 10k–20k.\n",
    "\n",
    "# Lag\n",
    "\n",
    "Another very important thing to consider with MCMCs is sample independence. A new sample here is often dependent on the previous one as occasionally we do not accept a new random value and keep the old. To address this problem, we implement what is called “lag”. Lag is where rather than recording every sample, we record every other, or perhaps every fifth or tenth sample.\n",
    "\n",
    "# The Simulation\n",
    "\n",
    "Great, we now have everything we need to write and run our MCMC.\n"
   ],
   "metadata": {
    "collapsed": false
   },
   "id": "60a274b4f5f56883"
  },
  {
   "cell_type": "code",
   "execution_count": 20,
   "outputs": [],
   "source": [
    "# Create empty list to store samples\n",
    "results = []\n",
    "\n",
    "# Initialize a value of p\n",
    "p = np.random.uniform(0, 1)\n",
    "\n",
    "# Define model parameters\n",
    "n_samples = 25000\n",
    "burn_in = 5000\n",
    "lag = 5\n",
    "\n",
    "# Create the MCMC loop\n",
    "for i in range(n_samples):\n",
    "    # Propose a new value of p randomly from a uniform distribution between 0 and 1\n",
    "    p_new = np.random.random_sample()\n",
    "    # Compute acceptance probability\n",
    "    R = acceptance_ratio(p, p_new)\n",
    "    # Draw random sample to compare R to\n",
    "    u = np.random.random_sample()\n",
    "    # If R is greater than u, accept the new value of p (set p = p_new)\n",
    "    if u < R:\n",
    "        p = p_new\n",
    "    # Record values after burn in - how often determined by lag\n",
    "    if i > burn_in and i%lag == 0:\n",
    "        results.append(p)"
   ],
   "metadata": {
    "collapsed": false,
    "ExecuteTime": {
     "end_time": "2023-11-08T14:51:42.624727Z",
     "start_time": "2023-11-08T14:51:30.405301Z"
    }
   },
   "id": "95da2c97b9cf0e57"
  },
  {
   "cell_type": "code",
   "execution_count": 21,
   "outputs": [
    {
     "data": {
      "text/plain": "(array([0.03242242, 0.06484483, 0.06484483, 0.06484483, 0.16211208,\n        0.06484483, 0.06484483, 0.        , 0.25937932, 0.16211208,\n        0.77813796, 1.03751728, 1.26447419, 1.9453449 , 1.91292249,\n        1.68596558, 2.98286219, 4.63640535, 4.15006913, 5.86845712,\n        6.71143992, 7.00324165, 7.00324165, 7.78137961, 9.37007795,\n        7.48957788, 7.00324165, 7.71653478, 7.16535373, 6.97081924,\n        5.93330196, 4.53913811, 3.69615532, 3.30708634, 2.88559494,\n        2.13987939, 1.718388  , 1.16720694, 1.16720694, 0.6484483 ,\n        0.4214914 , 0.29180174, 0.06484483, 0.09726725, 0.09726725,\n        0.        , 0.03242242, 0.        , 0.        , 0.03242242]),\n array([0.37498628, 0.38269892, 0.39041157, 0.39812421, 0.40583685,\n        0.4135495 , 0.42126214, 0.42897478, 0.43668743, 0.44440007,\n        0.45211271, 0.45982535, 0.467538  , 0.47525064, 0.48296328,\n        0.49067593, 0.49838857, 0.50610121, 0.51381386, 0.5215265 ,\n        0.52923914, 0.53695179, 0.54466443, 0.55237707, 0.56008971,\n        0.56780236, 0.575515  , 0.58322764, 0.59094029, 0.59865293,\n        0.60636557, 0.61407822, 0.62179086, 0.6295035 , 0.63721615,\n        0.64492879, 0.65264143, 0.66035408, 0.66806672, 0.67577936,\n        0.683492  , 0.69120465, 0.69891729, 0.70662993, 0.71434258,\n        0.72205522, 0.72976786, 0.73748051, 0.74519315, 0.75290579,\n        0.76061844]),\n <BarContainer object of 50 artists>)"
     },
     "execution_count": 21,
     "metadata": {},
     "output_type": "execute_result"
    },
    {
     "data": {
      "text/plain": "<Figure size 640x480 with 1 Axes>",
      "image/png": "[encoded data removed]"
     },
     "metadata": {},
     "output_type": "display_data"
    }
   ],
   "source": [
    "plt.hist(results, bins=50, density=True)"
   ],
   "metadata": {
    "collapsed": false,
    "ExecuteTime": {
     "end_time": "2023-11-08T14:51:42.986216Z",
     "start_time": "2023-11-08T14:51:42.718204Z"
    }
   },
   "id": "f7399ec7ce4d4501"
  },
  {
   "cell_type": "code",
   "execution_count": 22,
   "outputs": [
    {
     "name": "stdout",
     "output_type": "stream",
     "text": [
      "Mean:  0.5682380041128441\n",
      "Standard Deviation:  0.04936822913576374\n",
      "Expected Mean:  0.57\n",
      "Expected Standard Deviation:  0.04950757517794625\n"
     ]
    }
   ],
   "source": [
    "print(\"Mean: \", np.mean(results))\n",
    "print(\"Standard Deviation: \", np.std(results))\n",
    "\n",
    "print(\"Expected Mean: \", x/n)\n",
    "print(\"Expected Standard Deviation: \", np.sqrt(x/n*(1-x/n)/n))"
   ],
   "metadata": {
    "collapsed": false,
    "ExecuteTime": {
     "end_time": "2023-11-08T14:51:42.997312Z",
     "start_time": "2023-11-08T14:51:42.988008Z"
    }
   },
   "id": "e5a0c1985456d39d"
  },
  {
   "cell_type": "markdown",
   "source": [
    "# Next Steps\n",
    "\n",
    "### Okay, so now let's suppose that the factory makes five hundred more coins. We do the same procedure of 100 flips (testing) for each of these coins, and determine a probability of heads for each. We can then use these probabilities as our prior for the next round of testing. This is the beauty of Bayesian statistics, we can update our prior with new information and get a better estimate of the true probability of heads.\n",
    "\n",
    "### Let's suppose that when we do this, we find that there is a distribution of probabilities for the five hundred coins that looks like this:  it is a roughly normal distribution with a mean of 0.511 and a standard deviation of 0.015. We can use this as our prior for the next round of testing."
   ],
   "metadata": {
    "collapsed": false
   },
   "id": "1c7b91904ad36c77"
  },
  {
   "cell_type": "code",
   "execution_count": 23,
   "outputs": [
    {
     "name": "stdout",
     "output_type": "stream",
     "text": [
      "Expected Mean:  0.5\n",
      "Expected Standard Deviation:  0.022360679774997897\n",
      "Expected Standard Deviation for coin with mu=0.511:  0.02235526783556842\n"
     ]
    }
   ],
   "source": [
    "# Expected mean and standard deviation of 500 fair coins\n",
    "print(\"Expected Mean: \", 0.5)\n",
    "print(\"Expected Standard Deviation: \", np.sqrt(0.5*(1-0.5)/500))\n",
    "\n",
    "print(\"Expected Standard Deviation for coin with mu=0.511: \", np.sqrt(0.511*(1-0.511)/500))\n",
    "\n",
    "# Define the prior P(p) - using the mean and standard deviation of the distribution of probabilities for the 500 coins\n",
    "# Note that we are using here the OBSERVED mean and standard deviation of the 500 coins, not the expected mean \n",
    "# and standard deviation of 500 fair coins ... that is, we are using the SAMPLE values, and not the expected \n",
    "# POPULATION values\n",
    "\n",
    "mean = 0.511\n",
    "std = 0.015\n",
    "\n",
    "def prior(p):\n",
    "    return stats.norm.pdf(p, mean, std)\n"
   ],
   "metadata": {
    "collapsed": false,
    "ExecuteTime": {
     "end_time": "2023-11-08T14:51:43.068389Z",
     "start_time": "2023-11-08T14:51:42.998494Z"
    }
   },
   "id": "8222e9ebe6bb1617"
  },
  {
   "cell_type": "code",
   "execution_count": 24,
   "outputs": [],
   "source": [
    "# Now, look at the 501st coin\n",
    "\n",
    "x = 63\n",
    "n = 100\n",
    "\n",
    "# Likelihood function - Binomial\n",
    "def likelihood(p):\n",
    "    return stats.binom.pmf(x, n, p)\n",
    "\n",
    "def acceptance_ratio(p, p_new):\n",
    "    return min(1, likelihood(p_new) * prior(p_new) / (likelihood(p) * prior(p)))\n"
   ],
   "metadata": {
    "collapsed": false,
    "ExecuteTime": {
     "end_time": "2023-11-08T14:51:43.069233Z",
     "start_time": "2023-11-08T14:51:43.005393Z"
    }
   },
   "id": "6e958a307f47a1df"
  },
  {
   "cell_type": "code",
   "execution_count": 25,
   "outputs": [],
   "source": [
    "# Create empty list to store samples\n",
    "results2 = []\n",
    "\n",
    "# Initialize a value of p\n",
    "p = np.random.uniform(0, 1)\n",
    "\n",
    "# Define model parameters\n",
    "n_samples = 25000\n",
    "burn_in = 5000\n",
    "lag = 5\n",
    "\n",
    "# Create the MCMC loop\n",
    "for i in range(n_samples):\n",
    "    # Propose a new value of p randomly from a uniform distribution between 0 and 1\n",
    "    p_new = np.random.random_sample()\n",
    "    # Compute acceptance probability\n",
    "    R = acceptance_ratio(p, p_new)\n",
    "    # Draw random sample to compare R to\n",
    "    u = np.random.random_sample()\n",
    "    # If R is greater than u, accept the new value of p (set p = p_new)\n",
    "    if u < R:\n",
    "        p = p_new\n",
    "    # Record values after burn in - how often determined by lag\n",
    "    if i > burn_in and i%lag == 0:\n",
    "        results2.append(p)"
   ],
   "metadata": {
    "collapsed": false,
    "ExecuteTime": {
     "end_time": "2023-11-08T14:51:55.090326Z",
     "start_time": "2023-11-08T14:51:43.015514Z"
    }
   },
   "id": "2db32f0febb00965"
  },
  {
   "cell_type": "code",
   "execution_count": 26,
   "outputs": [
    {
     "data": {
      "text/plain": "(array([ 0.1218428 ,  0.        ,  0.        ,  0.1218428 ,  0.1218428 ,\n         0.1218428 ,  0.24368559,  0.1218428 ,  1.34027075,  1.70579914,\n         1.94948473,  1.70579914,  4.63002623,  3.89896946,  3.89896946,\n         5.97029699, 10.35663763,  9.26005247, 17.66720537,  8.89452408,\n        14.49929268, 21.68801762, 29.72964213, 27.9020002 , 21.32248924,\n        23.51565956, 38.01495224, 20.10406128, 34.23782557, 24.85593031,\n        22.4190744 , 23.27197397, 16.8143058 , 17.66720537, 11.2095372 ,\n        18.15457655,  7.55425333, 10.60032322,  8.4071529 ,  7.79793892,\n         4.75186903,  2.31501312,  2.9242271 ,  1.46211355,  0.24368559,\n         1.70579914,  0.24368559,  1.21842796,  0.        ,  0.48737118]),\n array([0.46557806, 0.4676304 , 0.46968274, 0.47173508, 0.47378741,\n        0.47583975, 0.47789209, 0.47994442, 0.48199676, 0.4840491 ,\n        0.48610144, 0.48815377, 0.49020611, 0.49225845, 0.49431079,\n        0.49636312, 0.49841546, 0.5004678 , 0.50252013, 0.50457247,\n        0.50662481, 0.50867715, 0.51072948, 0.51278182, 0.51483416,\n        0.5168865 , 0.51893883, 0.52099117, 0.52304351, 0.52509585,\n        0.52714818, 0.52920052, 0.53125286, 0.53330519, 0.53535753,\n        0.53740987, 0.53946221, 0.54151454, 0.54356688, 0.54561922,\n        0.54767156, 0.54972389, 0.55177623, 0.55382857, 0.5558809 ,\n        0.55793324, 0.55998558, 0.56203792, 0.56409025, 0.56614259,\n        0.56819493]),\n <BarContainer object of 50 artists>)"
     },
     "execution_count": 26,
     "metadata": {},
     "output_type": "execute_result"
    },
    {
     "data": {
      "text/plain": "<Figure size 640x480 with 1 Axes>",
      "image/png": "[encoded data removed]"
     },
     "metadata": {},
     "output_type": "display_data"
    }
   ],
   "source": [
    "plt.hist(results2, bins=50, density=True)"
   ],
   "metadata": {
    "collapsed": false,
    "ExecuteTime": {
     "end_time": "2023-11-08T14:51:55.377715Z",
     "start_time": "2023-11-08T14:51:55.118634Z"
    }
   },
   "id": "6267dabf35d2b0ab"
  },
  {
   "cell_type": "code",
   "execution_count": 27,
   "outputs": [
    {
     "name": "stdout",
     "output_type": "stream",
     "text": [
      "Mean:  0.5211395440750799\n",
      "Standard Deviation:  0.014330712479097884\n",
      "Expected Mean:  0.5112375249500998\n"
     ]
    }
   ],
   "source": [
    "print(\"Mean: \", np.mean(results2))\n",
    "print(\"Standard Deviation: \", np.std(results2))\n",
    "\n",
    "print(\"Expected Mean: \", (500*0.511 + x/n)/(500+1))\n"
   ],
   "metadata": {
    "collapsed": false,
    "ExecuteTime": {
     "end_time": "2023-11-08T14:51:55.383308Z",
     "start_time": "2023-11-08T14:51:55.374358Z"
    }
   },
   "id": "ba866cff18f8c1a1"
  },
  {
   "cell_type": "markdown",
   "source": [
    "# Conclusion\n",
    "\n",
    "### Even though the data for this coin suggests a bias around 0.63, our Bayesian Inference model suggests the actual value is much closer to 0.52. \n",
    "\n",
    "### This is because our informed prior function holds weight in the model, telling us that even if we observed 63 heads for this coin, given that coins are produced with an average bias of around 0.51, we expect the bias for the 501st to be closer to the factory bias. \n",
    "\n",
    "### Even if this coin had exactly a 0.5 bias, observing 63 heads out of 100 tosses is not entirely unlikely, and we shouldn't assume this data to be representative of the exact value. The prior function holds weight just like the likelihood does in informing the posterior distribution. \n",
    "\n",
    "### If we were to produce thousands of more coins and inform the prior distribution even more, this would give it an even higher weight in the model. This idea of updating our understanding with more information to predict unknown parameters is exactly why Bayesian Inference is useful. It is tuning and manipulating these likelihood and prior functions with more and better data that allows us to improve and inform our inference model."
   ],
   "metadata": {
    "collapsed": false
   },
   "id": "d72544165af45b4f"
  },
  {
   "cell_type": "code",
   "execution_count": null,
   "outputs": [],
   "source": [],
   "metadata": {
    "collapsed": false
   },
   "id": "75edb08ad0015f83"
  }
 ],
 "metadata": {
  "kernelspec": {
   "display_name": "Python 3",
   "language": "python",
   "name": "python3"
  },
  "language_info": {
   "codemirror_mode": {
    "name": "ipython",
    "version": 2
   },
   "file_extension": ".py",
   "mimetype": "text/x-python",
   "name": "python",
   "nbconvert_exporter": "python",
   "pygments_lexer": "ipython2",
   "version": "2.7.6"
  }
 },
 "nbformat": 4,
 "nbformat_minor": 5
}
