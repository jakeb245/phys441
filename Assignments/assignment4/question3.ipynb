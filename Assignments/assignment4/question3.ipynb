{
 "cells": [
  {
   "cell_type": "markdown",
   "source": [
    "# PHYS 541 Assignment 4 Question 3\n",
    "\n",
    "Beginning with the bikeshare_final.ipynb notebook in the Week7and8 folder, create a bikeshare system that models THREE locations (rather than just two).  Assuming the locations are called A, B, and C, use the following parameters:  total number of bikes = 100, p_AB = 0.3, p_BA=0.2, p_AC = 0.4, p_CA=0.1, p_BC=0.35, p_CB=0.15.  Try to determine the optimum initial configuration of the 100 bikes between the three locations such that the number of unsatisfied customers will be minimized over a three-hour period of bike sharing.\n",
    "\n",
    "As a suggestion, try some configurations in steps of 10 bikes for the initial configuration, for example, try A = 10, B = 30, C = 60, and compare that to A = 10, B = 60, C = 30.  This may help you understand where the optimum configuration might be located in the (A,B,C) space.\n"
   ],
   "metadata": {
    "collapsed": false
   },
   "id": "db09285cfe3d061a"
  },
  {
   "cell_type": "code",
   "execution_count": 1,
   "outputs": [],
   "source": [
    "from modsim import *"
   ],
   "metadata": {
    "collapsed": false,
    "ExecuteTime": {
     "end_time": "2023-11-03T16:29:08.051978Z",
     "start_time": "2023-11-03T16:29:06.357976Z"
    }
   },
   "id": "99e7870be45b0430"
  },
  {
   "cell_type": "code",
   "execution_count": null,
   "outputs": [],
   "source": [
    "def step(state, p_ab, p_ba, p_ac, p_ca, p_bc, p_cb):\n",
    "    if flip(p_ab):\n",
    "        bike_from_a_to_b(state)\n",
    "        \n",
    "    if flip(p_ba):\n",
    "        bike_from_b_to_a(state)\n",
    "        \n",
    "    if flip(p_ac):\n",
    "        bike_from_a_to_c(state)\n",
    "        \n",
    "    if flip(p_ca):\n",
    "        bike_from_c_to_a(state)\n",
    "    \n",
    "    if flip(p_bc):\n",
    "        bike_from_b_to_c(state)\n",
    "        \n",
    "    if flip(p_cb):\n",
    "        bike_from_c_to_b(state)\n",
    "\n",
    "def bike_from_a_to_b(state):\n",
    "    if state.a == 0:\n",
    "        state.a_empty += 1\n",
    "        return\n",
    "    state.a -= 1\n",
    "    state.b += 1\n",
    "\n",
    "def bike_from_b_to_a(state):\n",
    "    if state.b == 0:\n",
    "        state.b_empty += 1\n",
    "        return\n",
    "    state.b -= 1\n",
    "    state.a += 1\n",
    "\n",
    "def bike_from_c_to_b(state):\n",
    "    if state.c == 0:\n",
    "        state.c_empty += 1\n",
    "        return\n",
    "    state.c -= 1\n",
    "    state.b += 1\n",
    "\n",
    "def bike_from_a_to_c(state):\n",
    "    if state.a == 0:\n",
    "        state.a_empty += 1\n",
    "        return\n",
    "    state.a -= 1\n",
    "    state.c += 1\n",
    "\n",
    "def bike_from_b_to_c(state):\n",
    "    if state.b == 0:\n",
    "        state.b_empty += 1\n",
    "        return\n",
    "    state.b -= 1\n",
    "    state.c += 1\n",
    "\n",
    "def bike_from_c_to_a(state):\n",
    "    if state.c == 0:\n",
    "        state.c_empty += 1\n",
    "        return\n",
    "    state.c -= 1\n",
    "    state.a += 1"
   ],
   "metadata": {
    "collapsed": false
   },
   "id": "5fc0e853e5ae7a7d"
  }
 ],
 "metadata": {
  "kernelspec": {
   "display_name": "Python 3",
   "language": "python",
   "name": "python3"
  },
  "language_info": {
   "codemirror_mode": {
    "name": "ipython",
    "version": 2
   },
   "file_extension": ".py",
   "mimetype": "text/x-python",
   "name": "python",
   "nbconvert_exporter": "python",
   "pygments_lexer": "ipython2",
   "version": "2.7.6"
  }
 },
 "nbformat": 4,
 "nbformat_minor": 5
}
