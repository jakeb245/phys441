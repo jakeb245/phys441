{
 "cells": [
  {
   "cell_type": "markdown",
   "source": [
    "# PHYS 541 Assignment 4 Question 3\n",
    "\n",
    "Beginning with the bikeshare_final.ipynb notebook in the Week7and8 folder, create a bikeshare system that models THREE locations (rather than just two).  Assuming the locations are called A, B, and C, use the following parameters:  total number of bikes = 100, p_AB = 0.3, p_BA=0.2, p_AC = 0.4, p_CA=0.1, p_BC=0.35, p_CB=0.15.  Try to determine the optimum initial configuration of the 100 bikes between the three locations such that the number of unsatisfied customers will be minimized over a three-hour period of bike sharing.\n",
    "\n",
    "As a suggestion, try some configurations in steps of 10 bikes for the initial configuration, for example, try A = 10, B = 30, C = 60, and compare that to A = 10, B = 60, C = 30.  This may help you understand where the optimum configuration might be located in the (A,B,C) space.\n"
   ],
   "metadata": {
    "collapsed": false
   },
   "id": "db09285cfe3d061a"
  },
  {
   "cell_type": "code",
   "execution_count": 1,
   "outputs": [],
   "source": [
    "from modsim import *\n",
    "import pandas as pd"
   ],
   "metadata": {
    "collapsed": false,
    "ExecuteTime": {
     "end_time": "2023-11-03T17:42:02.147186Z",
     "start_time": "2023-11-03T17:42:01.466904Z"
    }
   },
   "id": "99e7870be45b0430"
  },
  {
   "cell_type": "code",
   "execution_count": 2,
   "outputs": [],
   "source": [
    "def step(state, p_ab, p_ba, p_ac, p_ca, p_bc, p_cb):\n",
    "    if flip(p_ab):\n",
    "        bike_from_a_to_b(state)\n",
    "        \n",
    "    if flip(p_ba):\n",
    "        bike_from_b_to_a(state)\n",
    "        \n",
    "    if flip(p_ac):\n",
    "        bike_from_a_to_c(state)\n",
    "        \n",
    "    if flip(p_ca):\n",
    "        bike_from_c_to_a(state)\n",
    "    \n",
    "    if flip(p_bc):\n",
    "        bike_from_b_to_c(state)\n",
    "        \n",
    "    if flip(p_cb):\n",
    "        bike_from_c_to_b(state)\n",
    "\n",
    "def bike_from_a_to_b(state):\n",
    "    if state.a == 0:\n",
    "        state.a_empty += 1\n",
    "        return\n",
    "    state.a -= 1\n",
    "    state.b += 1\n",
    "\n",
    "def bike_from_b_to_a(state):\n",
    "    if state.b == 0:\n",
    "        state.b_empty += 1\n",
    "        return\n",
    "    state.b -= 1\n",
    "    state.a += 1\n",
    "\n",
    "def bike_from_c_to_b(state):\n",
    "    if state.c == 0:\n",
    "        state.c_empty += 1\n",
    "        return\n",
    "    state.c -= 1\n",
    "    state.b += 1\n",
    "\n",
    "def bike_from_a_to_c(state):\n",
    "    if state.a == 0:\n",
    "        state.a_empty += 1\n",
    "        return\n",
    "    state.a -= 1\n",
    "    state.c += 1\n",
    "\n",
    "def bike_from_b_to_c(state):\n",
    "    if state.b == 0:\n",
    "        state.b_empty += 1\n",
    "        return\n",
    "    state.b -= 1\n",
    "    state.c += 1\n",
    "\n",
    "def bike_from_c_to_a(state):\n",
    "    if state.c == 0:\n",
    "        state.c_empty += 1\n",
    "        return\n",
    "    state.c -= 1\n",
    "    state.a += 1"
   ],
   "metadata": {
    "collapsed": false,
    "ExecuteTime": {
     "end_time": "2023-11-03T17:42:02.155883Z",
     "start_time": "2023-11-03T17:42:02.150093Z"
    }
   },
   "id": "5fc0e853e5ae7a7d"
  },
  {
   "cell_type": "code",
   "execution_count": 3,
   "outputs": [],
   "source": [
    "def run_simulation(state, p_ab, p_ba, p_ac, p_ca, p_bc, p_cb, num_steps, do_plot=True):\n",
    "    \"\"\"\n",
    "    Simulate the number of given time steps\n",
    "    \n",
    "    :param state: State object\n",
    "    :param p_ab: probability of bike from a to b \n",
    "    :param p_ba: probability of bike from b to a\n",
    "    :param p_ac: probability of bike from a to c\n",
    "    :param p_ca: probability of bike from c to a\n",
    "    :param p_bc: probability of bike from b to c\n",
    "    :param p_cb: probability of bike from c to b\n",
    "    :param num_steps: number of time steps to simulate\n",
    "    :param do_plot: Boolean flag indicating whether to plot the results\n",
    "    :return: number of total unsatisfied customers\n",
    "    \"\"\"\n",
    "    # Set up time series\n",
    "    results_a = TimeSeries()\n",
    "    results_b = TimeSeries()\n",
    "    results_c = TimeSeries()\n",
    "    # Initial conditions\n",
    "    results_a[0] = state.a\n",
    "    results_b[0] = state.b\n",
    "    results_c[0] = state.c\n",
    "    results_a_unsatisfied = TimeSeries()\n",
    "    results_b_unsatisfied = TimeSeries()\n",
    "    results_c_unsatisfied = TimeSeries()\n",
    "    results_a_unsatisfied[0] = state.a_empty\n",
    "    results_b_unsatisfied[0] = state.b_empty\n",
    "    results_c_unsatisfied[0] = state.c_empty\n",
    "    \n",
    "    for i in range(num_steps):\n",
    "        step(state, p_ab, p_ba, p_ac, p_ca, p_bc, p_cb)\n",
    "        results_a[i+1] = state.a\n",
    "        results_b[i+1] = state.b\n",
    "        results_c[i+1] = state.c\n",
    "        results_a_unsatisfied[i+1] = state.a_empty\n",
    "        results_b_unsatisfied[i+1] = state.b_empty\n",
    "        results_c_unsatisfied[i+1] = state.c_empty\n",
    "    \n",
    "    if do_plot:\n",
    "        fig, ax = plt.subplots(1, 2, figsize=(12,6))\n",
    "        ax[0].plot(results_a, label='a')\n",
    "        ax[0].plot(results_b, label='b')\n",
    "        ax[0].plot(results_c, label='c')\n",
    "        ax[0].set_xlabel('Time step (min)')\n",
    "        ax[0].set_ylabel('Number of bikes')\n",
    "        ax[0].legend()\n",
    "        ax[1].plot(results_a_unsatisfied, label='a')\n",
    "        ax[1].plot(results_b_unsatisfied, label='b')\n",
    "        ax[1].plot(results_c_unsatisfied, label='c')\n",
    "        ax[1].set_xlabel('Time step (min)')\n",
    "        ax[1].set_ylabel('Number of unsatisfied customers')\n",
    "        ax[1].legend()\n",
    "        plt.show()\n",
    "    \n",
    "    return results_a_unsatisfied[num_steps-1] + results_b_unsatisfied[num_steps-1] + results_c_unsatisfied[num_steps-1]"
   ],
   "metadata": {
    "collapsed": false,
    "ExecuteTime": {
     "end_time": "2023-11-03T17:42:02.156055Z",
     "start_time": "2023-11-03T17:42:02.154074Z"
    }
   },
   "id": "2e5e25eee4251811"
  },
  {
   "cell_type": "code",
   "execution_count": 4,
   "outputs": [
    {
     "data": {
      "text/plain": "<Figure size 900x450 with 2 Axes>",
      "image/png": "[encoded data removed]"
     },
     "metadata": {},
     "output_type": "display_data"
    }
   ],
   "source": [
    "p_ab = 0.3\n",
    "p_ba = 0.2\n",
    "p_ac = 0.4\n",
    "p_ca = 0.1\n",
    "p_bc = 0.35\n",
    "p_cb = 0.15\n",
    "\n",
    "num_slots = 100  # Number of total bikes\n",
    "num_steps = 180  # 3 hours\n",
    "\n",
    "bikeshare = State(a = 10, b = 30, c = 60, a_empty=0, b_empty=0, c_empty=0)\n",
    "total_unsatisfied = run_simulation(bikeshare, p_ab, p_ba, p_ac, p_ca, p_bc, p_cb, num_steps)"
   ],
   "metadata": {
    "collapsed": false,
    "ExecuteTime": {
     "end_time": "2023-11-03T17:42:02.433060Z",
     "start_time": "2023-11-03T17:42:02.160115Z"
    }
   },
   "id": "46a5cb61bdaa4d3d"
  },
  {
   "cell_type": "code",
   "execution_count": null,
   "outputs": [
    {
     "name": "stdout",
     "output_type": "stream",
     "text": [
      "{'a': 0, 'b': 0, 'c': 100, 'unsatisfied': 71.13}\n",
      "{'a': 0, 'b': 10, 'c': 90, 'unsatisfied': 73.3}\n",
      "{'a': 0, 'b': 20, 'c': 80, 'unsatisfied': 72.43}\n",
      "{'a': 0, 'b': 30, 'c': 70, 'unsatisfied': 70.64}\n",
      "{'a': 0, 'b': 40, 'c': 60, 'unsatisfied': 73.35}\n",
      "{'a': 0, 'b': 50, 'c': 50, 'unsatisfied': 79.49}\n",
      "{'a': 0, 'b': 60, 'c': 40, 'unsatisfied': 91.18}\n",
      "{'a': 0, 'b': 70, 'c': 30, 'unsatisfied': 103.56}\n",
      "{'a': 0, 'b': 80, 'c': 20, 'unsatisfied': 117.06}\n",
      "{'a': 0, 'b': 90, 'c': 10, 'unsatisfied': 133.98}\n",
      "{'a': 0, 'b': 100, 'c': 0, 'unsatisfied': 268.96}\n",
      "{'a': 10, 'b': 0, 'c': 90, 'unsatisfied': 60.87}\n",
      "{'a': 10, 'b': 10, 'c': 80, 'unsatisfied': 63.28}\n",
      "{'a': 10, 'b': 20, 'c': 70, 'unsatisfied': 63.01}\n",
      "{'a': 10, 'b': 30, 'c': 60, 'unsatisfied': 62.86}\n",
      "{'a': 10, 'b': 40, 'c': 50, 'unsatisfied': 63.54}\n",
      "{'a': 10, 'b': 50, 'c': 40, 'unsatisfied': 75.31}\n",
      "{'a': 10, 'b': 60, 'c': 30, 'unsatisfied': 86.23}\n",
      "{'a': 10, 'b': 70, 'c': 20, 'unsatisfied': 103.4}\n",
      "{'a': 10, 'b': 80, 'c': 10, 'unsatisfied': 118.41}\n",
      "{'a': 10, 'b': 90, 'c': 0, 'unsatisfied': 133.95}\n",
      "{'a': 20, 'b': 0, 'c': 80, 'unsatisfied': 54.58}\n",
      "{'a': 20, 'b': 10, 'c': 70, 'unsatisfied': 52.92}\n",
      "{'a': 20, 'b': 20, 'c': 60, 'unsatisfied': 52.46}\n",
      "{'a': 20, 'b': 30, 'c': 50, 'unsatisfied': 54.53}\n",
      "{'a': 20, 'b': 40, 'c': 40, 'unsatisfied': 60.3}\n",
      "{'a': 20, 'b': 50, 'c': 30, 'unsatisfied': 71.34}\n",
      "{'a': 20, 'b': 60, 'c': 20, 'unsatisfied': 86.26}\n",
      "{'a': 20, 'b': 70, 'c': 10, 'unsatisfied': 98.64}\n",
      "{'a': 20, 'b': 80, 'c': 0, 'unsatisfied': 114.78}\n",
      "{'a': 30, 'b': 0, 'c': 70, 'unsatisfied': 43.17}\n",
      "{'a': 30, 'b': 10, 'c': 60, 'unsatisfied': 42.15}\n",
      "{'a': 30, 'b': 20, 'c': 50, 'unsatisfied': 41.94}\n",
      "{'a': 30, 'b': 30, 'c': 40, 'unsatisfied': 45.51}\n",
      "{'a': 30, 'b': 40, 'c': 30, 'unsatisfied': 54.94}\n",
      "{'a': 30, 'b': 50, 'c': 20, 'unsatisfied': 71.24}\n",
      "{'a': 30, 'b': 60, 'c': 10, 'unsatisfied': 84.96}\n",
      "{'a': 30, 'b': 70, 'c': 0, 'unsatisfied': 99.43}\n",
      "{'a': 40, 'b': 0, 'c': 60, 'unsatisfied': 33.85}\n",
      "{'a': 40, 'b': 10, 'c': 50, 'unsatisfied': 34.17}\n",
      "{'a': 40, 'b': 20, 'c': 40, 'unsatisfied': 32.56}\n",
      "{'a': 40, 'b': 30, 'c': 30, 'unsatisfied': 36.25}\n",
      "{'a': 40, 'b': 40, 'c': 20, 'unsatisfied': 52.03}\n",
      "{'a': 40, 'b': 50, 'c': 10, 'unsatisfied': 69.65}\n"
     ]
    }
   ],
   "source": [
    "# The brute force loops\n",
    "increment = 10  # \n",
    "num_sims = 100\n",
    "\n",
    "data = {\n",
    "    \"a\": [],\n",
    "    \"b\": [],\n",
    "    \"c\": [],\n",
    "    \"unsatisfied\": []\n",
    "}\n",
    "state_results = pd.DataFrame(data)\n",
    "loc = 0\n",
    "\n",
    "for a in range(0, num_slots+increment, increment):\n",
    "    for b in range(0, num_slots+increment, increment):\n",
    "        for c in range(0, num_slots+increment, increment):\n",
    "            # Quite a nested for loop here\n",
    "            # Many of these iterations will not have the correct number of bikes, so check first\n",
    "            if (a+b+c) == num_slots:\n",
    "                state = {'a': a, 'b': b, 'c': c}\n",
    "                tu_sum = 0\n",
    "                for i in range(num_sims):\n",
    "                    bikeshare = State(a = a, b = c, c = c, a_empty=0, b_empty=0, c_empty=0)\n",
    "                    tu_sum += run_simulation(bikeshare, p_ab, p_ba, p_ac, p_ca, p_bc, p_cb, num_steps, do_plot=False)\n",
    "                tu_avg = tu_sum / num_sims\n",
    "                state['unsatisfied'] = tu_avg\n",
    "                print(state)\n",
    "                state_results.loc[loc] = [a, b, c, tu_avg]\n",
    "                loc += 1\n",
    "\n",
    "state_results.to_csv('question3.csv')"
   ],
   "metadata": {
    "collapsed": false,
    "is_executing": true,
    "ExecuteTime": {
     "start_time": "2023-11-03T17:42:02.447149Z"
    }
   },
   "id": "e0ac898bda218927"
  },
  {
   "cell_type": "code",
   "execution_count": null,
   "outputs": [],
   "source": [
    "run_from_csv = False\n",
    "if run_from_csv:\n",
    "    state_results = pd.read_csv('question3.csv')\n",
    "\n",
    "best_state = state_results.sort_values('unsatisfied')\n",
    "print(best_state)\n",
    "print(\"Lowest number of unsatisfied customers:\")\n"
   ],
   "metadata": {
    "collapsed": false,
    "is_executing": true
   },
   "id": "7fe98e7b3d5efd9d"
  },
  {
   "cell_type": "code",
   "execution_count": null,
   "outputs": [],
   "source": [],
   "metadata": {
    "collapsed": false,
    "is_executing": true
   },
   "id": "c07e0f5eb574f8b5"
  }
 ],
 "metadata": {
  "kernelspec": {
   "display_name": "Python 3",
   "language": "python",
   "name": "python3"
  },
  "language_info": {
   "codemirror_mode": {
    "name": "ipython",
    "version": 2
   },
   "file_extension": ".py",
   "mimetype": "text/x-python",
   "name": "python",
   "nbconvert_exporter": "python",
   "pygments_lexer": "ipython2",
   "version": "2.7.6"
  }
 },
 "nbformat": 4,
 "nbformat_minor": 5
}
