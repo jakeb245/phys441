{
 "cells": [
  {
   "cell_type": "code",
   "execution_count": 116,
   "outputs": [],
   "source": [
    "import numpy as np\n",
    "import matplotlib as plt"
   ],
   "metadata": {
    "collapsed": false,
    "ExecuteTime": {
     "end_time": "2023-12-05T17:02:28.906116Z",
     "start_time": "2023-12-05T17:02:28.892654Z"
    }
   },
   "id": "a0d51cc73df853e9"
  },
  {
   "cell_type": "markdown",
   "source": [
    "# PHYS 541 Final Project: The Cracker Barrel Peg Game\n",
    "## Name: Jacob Buchanan\n",
    "\n",
    "If you've ever been to a Cracker Barrel, you've probably made an attempt at the peg game. It's pretty straightforward. You have a triangle with some pegs and one open space to start. You have to jump all the pegs and get as few as you can at the end. It's difficult to get a good solution (I always end up doing worse the more I try). I'd like to study this game a bit by writing a simulation of it.\n",
    "\n",
    "The triangle nature of this game makes simulating it somewhat tricky. I'll use a matrix and some defined Python classes to run this.\n",
    "\n",
    "First I'll define a \"space\" class. It can hold a peg object and keeps track of activity."
   ],
   "metadata": {
    "collapsed": false
   },
   "id": "fce921d5e6eea0ef"
  },
  {
   "cell_type": "code",
   "execution_count": 117,
   "id": "initial_id",
   "metadata": {
    "collapsed": true,
    "ExecuteTime": {
     "end_time": "2023-12-05T17:02:28.909644Z",
     "start_time": "2023-12-05T17:02:28.896685Z"
    }
   },
   "outputs": [],
   "source": [
    "class Space:\n",
    "    def __init__(self, peg=None):\n",
    "        self.peg = peg\n",
    "    \n",
    "    def set_peg(self, peg):\n",
    "        self.peg = peg\n",
    "        \n",
    "    def remove_peg(self):\n",
    "        peg = self.peg\n",
    "        self.peg = None\n",
    "        return peg\n",
    "\n",
    "    def has_peg(self):\n",
    "        if self.peg is not None:\n",
    "            return True\n",
    "        else:\n",
    "            return False"
   ]
  },
  {
   "cell_type": "markdown",
   "source": [
    "I'll now define a peg. It knows how many moves it has made and if it's still in the game."
   ],
   "metadata": {
    "collapsed": false
   },
   "id": "63c79eb069b5754c"
  },
  {
   "cell_type": "code",
   "execution_count": 118,
   "outputs": [],
   "source": [
    "class Peg:\n",
    "    def __init__(self, x, y):\n",
    "        self.num_moves = 0\n",
    "        self.in_game = True\n",
    "        self.x = x\n",
    "        self.y = y\n",
    "        \n",
    "    def move(self, to_x, to_y):\n",
    "        self.x = to_x\n",
    "        self.y = to_y\n",
    "        self.num_moves += 1\n",
    "    \n",
    "    def remove(self):\n",
    "        self.in_game = False"
   ],
   "metadata": {
    "collapsed": false,
    "ExecuteTime": {
     "end_time": "2023-12-05T17:02:28.923520Z",
     "start_time": "2023-12-05T17:02:28.900682Z"
    }
   },
   "id": "5426a582962f5cd7"
  },
  {
   "cell_type": "code",
   "execution_count": 119,
   "outputs": [],
   "source": [
    "class Move:\n",
    "    def __init__(self, p1, p2):\n",
    "        self.p1 = p1\n",
    "        self.p2 = p2\n",
    "    \n",
    "    def __str__(self):\n",
    "        return f\"Move peg at {self.p1} to {self.p2} which jumps over {self.jump_coord()}\"\n",
    "    \n",
    "    def jump_coord(self):\n",
    "        \"\"\"\n",
    "        gets the coordinate that the move jumps over\n",
    "        :return: (x,y)\n",
    "        \"\"\"\n",
    "        diff_x = self.p2[0] - self.p1[0]\n",
    "        if diff_x > 0:\n",
    "            jumped_x = self.p2[0] - 1\n",
    "        elif diff_x < 0:\n",
    "            jumped_x = self.p2[0] + 1\n",
    "        else:\n",
    "            jumped_x = self.p2[0]\n",
    "        diff_y = self.p2[1] - self.p1[1]\n",
    "        if diff_y > 0:\n",
    "            jumped_y = self.p2[1] - 1\n",
    "        elif diff_y < 0:\n",
    "            jumped_y = self.p2[1] + 1\n",
    "        else:\n",
    "            jumped_y = self.p2[1]\n",
    "        return jumped_x, jumped_y"
   ],
   "metadata": {
    "collapsed": false,
    "ExecuteTime": {
     "end_time": "2023-12-05T17:02:28.923635Z",
     "start_time": "2023-12-05T17:02:28.905919Z"
    }
   },
   "id": "7cbf3fbbb2fbc68c"
  },
  {
   "cell_type": "markdown",
   "source": [
    "Now I'll define the board. This is effectively a matrix with 5 rows and n columns (where n is the row number)."
   ],
   "metadata": {
    "collapsed": false
   },
   "id": "1541ad2d1f7a9a62"
  },
  {
   "cell_type": "code",
   "execution_count": 121,
   "outputs": [
    {
     "name": "stdout",
     "output_type": "stream",
     "text": [
      "1 \n",
      "1 1 \n",
      "0 1 1 \n",
      "1 1 1 1 \n",
      "1 1 1 1 1 \n",
      "\n",
      "0 \n",
      "0 1 \n",
      "1 1 1 \n",
      "1 1 1 1 \n",
      "1 1 1 1 1 \n"
     ]
    }
   ],
   "source": [
    "class Board:\n",
    "    def __init__(self, empty_x=0, empty_y=0):\n",
    "        self.board = [\n",
    "            [Space()],\n",
    "            [Space(), Space()],\n",
    "            [Space(), Space(), Space()],\n",
    "            [Space(), Space(), Space(), Space()],\n",
    "            [Space(), Space(), Space(), Space(), Space()],\n",
    "        ]\n",
    "        self.setup_board((empty_x,empty_y))\n",
    "        self.moves = []\n",
    "\n",
    "    def setup_board(self, empty_pos=(0,0)):\n",
    "        empty_space = False\n",
    "        for i in range(len(self.board)):\n",
    "            for j in range(len(self.board[i])):\n",
    "                if not (i,j) == empty_pos:\n",
    "                    self.board[i][j].set_peg(Peg(i,j))\n",
    "                else:\n",
    "                    empty_space = True\n",
    "        if not empty_space:\n",
    "            raise ValueError(\"One empty space required\")\n",
    "        \n",
    "    def check_space(self, p):\n",
    "        if p in self:\n",
    "            return self.board[p[0]][p[1]]\n",
    "        else:\n",
    "            return None\n",
    "        \n",
    "    def check_move(self, move):\n",
    "        \"\"\"\n",
    "        Checks a move from p1 to p2 (assuming the jump spacing is valid)\n",
    "        :param p1: tuple (x,y)\n",
    "        :param p2: tuple (x,y)\n",
    "        :return: Boolean\n",
    "        \"\"\"\n",
    "        if (move.p1 in self) and (move.p2 in self):\n",
    "            if self.check_space(move.p1).has_peg():\n",
    "                if not self.check_space(move.p2).has_peg():\n",
    "                    if self.check_space(move.jump_coord()).has_peg():\n",
    "                        return True\n",
    "        return False\n",
    "        \n",
    "    def get_moves(self):\n",
    "        moves = []\n",
    "        for i in range(len(self.board)):\n",
    "            for j in range(len(self.board[i])):\n",
    "                if self.board[i][j].has_peg():\n",
    "                    # It has a peg, can it move?\n",
    "                    for dx in (-2, 0, 2):\n",
    "                        for dy in (-2, 0, 2):\n",
    "                            move = Move((i,j),(i+dx,j+dy))\n",
    "                            if (dx, dy) == (0, 0):\n",
    "                                continue\n",
    "                            elif (i+dx < 0) or (j+dy < 0):\n",
    "                                continue\n",
    "                            elif dx*dy < 0:\n",
    "                                # Avoid case where the peg jumps too far\n",
    "                                continue\n",
    "                            elif not self.check_move(move):\n",
    "                                continue\n",
    "                            else:\n",
    "                                moves.append(move)\n",
    "        self.moves = moves\n",
    "        return moves\n",
    "    \n",
    "    def execute_move(self, move):\n",
    "        if self.check_move(move):\n",
    "            # Remove peg at jump coord\n",
    "            jump_coord = move.jump_coord()\n",
    "            self.check_space(jump_coord).remove_peg()\n",
    "            # Move peg\n",
    "            peg = self.check_space(move.p1).remove_peg()\n",
    "            self.check_space(move.p2).set_peg(peg)\n",
    "                    \n",
    "    def __str__(self):\n",
    "        output = \"\"\n",
    "        for row in self.board:\n",
    "            for space in row:\n",
    "                if space.has_peg():\n",
    "                    output += \"1 \"\n",
    "                else:\n",
    "                    output += \"0 \"\n",
    "            output += \"\\n\"\n",
    "        return output\n",
    "    \n",
    "    def __contains__(self, item):\n",
    "        \"\"\"\n",
    "        Check if coordinate is within the bounds of the board\n",
    "        :param item: A tuple (x,y)\n",
    "        :return: True or False\n",
    "        \"\"\"\n",
    "        try:\n",
    "            p = self.board[item[0]][item[1]]\n",
    "            return True\n",
    "        except IndexError:\n",
    "            return False\n",
    "\n",
    "board = Board(2,0)\n",
    "print(board)\n",
    "moves = board.get_moves()\n",
    "board.execute_move(moves[0])\n",
    "print(board)"
   ],
   "metadata": {
    "collapsed": false,
    "ExecuteTime": {
     "end_time": "2023-12-05T17:03:05.477716Z",
     "start_time": "2023-12-05T17:03:05.457411Z"
    }
   },
   "id": "c62b172ae4986ae7"
  },
  {
   "cell_type": "code",
   "execution_count": 120,
   "outputs": [],
   "source": [],
   "metadata": {
    "collapsed": false,
    "ExecuteTime": {
     "end_time": "2023-12-05T17:02:28.925098Z",
     "start_time": "2023-12-05T17:02:28.917076Z"
    }
   },
   "id": "1517631d91b67fee"
  },
  {
   "cell_type": "code",
   "execution_count": 120,
   "outputs": [],
   "source": [],
   "metadata": {
    "collapsed": false,
    "ExecuteTime": {
     "end_time": "2023-12-05T17:02:28.925142Z",
     "start_time": "2023-12-05T17:02:28.919673Z"
    }
   },
   "id": "e41749f9354284dd"
  }
 ],
 "metadata": {
  "kernelspec": {
   "display_name": "Python 3",
   "language": "python",
   "name": "python3"
  },
  "language_info": {
   "codemirror_mode": {
    "name": "ipython",
    "version": 2
   },
   "file_extension": ".py",
   "mimetype": "text/x-python",
   "name": "python",
   "nbconvert_exporter": "python",
   "pygments_lexer": "ipython2",
   "version": "2.7.6"
  }
 },
 "nbformat": 4,
 "nbformat_minor": 5
}
