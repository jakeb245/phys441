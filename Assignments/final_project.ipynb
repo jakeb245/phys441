{
 "cells": [
  {
   "cell_type": "code",
   "execution_count": 1,
   "outputs": [],
   "source": [
    "import numpy as np\n",
    "import matplotlib.pyplot as plt"
   ],
   "metadata": {
    "collapsed": false,
    "ExecuteTime": {
     "end_time": "2023-11-30T19:14:27.318107Z",
     "start_time": "2023-11-30T19:14:26.990363Z"
    }
   },
   "id": "17217299d20f5e5c"
  },
  {
   "cell_type": "markdown",
   "source": [
    "# PHYS 541 Final Project: Fire/EMS Logistics\n",
    "### Name: Jacob Buchanan\n",
    "\n",
    "My dad worked as an Assistant Chief in our local fire department until retirement and now works at a company selling data analysis software for public safety uses. This software is able to effectively run the dispatching for an entire department based on historical data, location, and so on. I have no idea how it works, but I imagine there's some heavy statistics going on behind the scenes. Fire departments have to decide how to structure their fleets; which stations should they place their trucks at? This was probably done through years of trial and error originally, but if one knew the historical statistics of fires in their locality, they could have a computer run this.\n",
    "\n",
    "My goal is to start with a heat map (pun somewhat intended) of fire data and a set of fire stations at specific locations, a fleet of fire trucks, and from that determine the best placement of the fire trucks based on some metrics.\n",
    "\n",
    "This could be considered an extension of the Bikeshare simulation done in class, although I'm going about this from scratch. This also could likely extend to a number of scenarios with some slight change."
   ],
   "metadata": {
    "collapsed": false
   },
   "id": "bb0224ecb61523c3"
  },
  {
   "cell_type": "markdown",
   "source": [
    "### Part 1: Generate the map\n",
    "\n",
    "I will assume my locality is a square and represent that with a matrix of configurable size. We'll say each unit is some distance. I'll ignore the existence of roads to avoid having to deal with pathing, but I'll consider traffic effects. Each point will contain some probability of having a fire occur in a time step. I'll start at zero and then add in two residential neighborhoods, an office park, and an industrial area. We'll say office parks have the lowest probability of a fire and industrial areas have the highest. I'll treat these as mostly uniform with some randomness (since some people are more likely to cause fires...)."
   ],
   "metadata": {
    "collapsed": false
   },
   "id": "c9538c0d3d7a3f85"
  },
  {
   "cell_type": "code",
   "execution_count": 2,
   "id": "initial_id",
   "metadata": {
    "collapsed": true,
    "ExecuteTime": {
     "end_time": "2023-11-30T19:14:27.397474Z",
     "start_time": "2023-11-30T19:14:27.318525Z"
    }
   },
   "outputs": [
    {
     "data": {
      "text/plain": "<matplotlib.image.AxesImage at 0x1283452d0>"
     },
     "execution_count": 2,
     "metadata": {},
     "output_type": "execute_result"
    },
    {
     "data": {
      "text/plain": "<Figure size 640x480 with 1 Axes>",
      "image/png": "[encoded data removed]"
     },
     "metadata": {},
     "output_type": "display_data"
    }
   ],
   "source": [
    "# Set up map\n",
    "size = 500\n",
    "fire_probability = np.zeros((size,size))\n",
    "fig = plt.figure()\n",
    "plt.imshow(fire_probability)"
   ]
  },
  {
   "cell_type": "code",
   "execution_count": 19,
   "outputs": [
    {
     "data": {
      "text/plain": "<matplotlib.colorbar.Colorbar at 0x12e30e050>"
     },
     "execution_count": 19,
     "metadata": {},
     "output_type": "execute_result"
    },
    {
     "data": {
      "text/plain": "<Figure size 640x480 with 2 Axes>",
      "image/png": "[encoded data removed]"
     },
     "metadata": {},
     "output_type": "display_data"
    }
   ],
   "source": [
    "# Chunk this into quadrants for simplicity\n",
    "def get_region(x,y):\n",
    "    if (x < (size / 2)) and (y < (size / 2)):\n",
    "        return 1\n",
    "    elif (x > (size / 2)) and (y < (size / 2)):\n",
    "        return 2\n",
    "    elif (x < (size / 2)) and (y > (size / 2)):\n",
    "        return 3\n",
    "    else:\n",
    "        return 4\n",
    "    \n",
    "# Each region follows a Gaussian distribution of its own\n",
    "# Structure: dictionary with region number key; values are (mu, sigma) of normal distribution\n",
    "get_prob = lambda mu,s: np.random.normal(mu, s)\n",
    "probs = {\n",
    "    1: get_prob(0.01, 0.003),\n",
    "    2: get_prob(0.05, 0.008),\n",
    "    3: get_prob(0.09, 0.01),\n",
    "    4: get_prob(0.02, 0.006)\n",
    "}\n",
    "\n",
    "for x, _ in enumerate(fire_probability):\n",
    "    for y, _ in enumerate(fire_probability[x]):\n",
    "        reg = get_region(x, y)\n",
    "        fire_probability[x][y] = probs[reg]\n",
    "\n",
    "plt.imshow(fire_probability)\n",
    "plt.colorbar()"
   ],
   "metadata": {
    "collapsed": false,
    "ExecuteTime": {
     "end_time": "2023-11-30T19:18:39.633772Z",
     "start_time": "2023-11-30T19:18:39.468712Z"
    }
   },
   "id": "f1588644b7b88b04"
  },
  {
   "cell_type": "code",
   "execution_count": 3,
   "outputs": [],
   "source": [
    "# Each neighborhood has a fire station, placed randomly\n"
   ],
   "metadata": {
    "collapsed": false,
    "ExecuteTime": {
     "end_time": "2023-11-30T19:14:27.582972Z",
     "start_time": "2023-11-30T19:14:27.580263Z"
    }
   },
   "id": "a72d3d26bf25b294"
  },
  {
   "cell_type": "code",
   "execution_count": 3,
   "outputs": [],
   "source": [],
   "metadata": {
    "collapsed": false,
    "ExecuteTime": {
     "end_time": "2023-11-30T19:14:27.586806Z",
     "start_time": "2023-11-30T19:14:27.584744Z"
    }
   },
   "id": "c6d4fdff1155f5f2"
  }
 ],
 "metadata": {
  "kernelspec": {
   "display_name": "Python 3",
   "language": "python",
   "name": "python3"
  },
  "language_info": {
   "codemirror_mode": {
    "name": "ipython",
    "version": 2
   },
   "file_extension": ".py",
   "mimetype": "text/x-python",
   "name": "python",
   "nbconvert_exporter": "python",
   "pygments_lexer": "ipython2",
   "version": "2.7.6"
  }
 },
 "nbformat": 4,
 "nbformat_minor": 5
}
