{
 "cells": [
  {
   "cell_type": "code",
   "execution_count": 6,
   "outputs": [],
   "source": [
    "import numpy as np\n",
    "import matplotlib as plt"
   ],
   "metadata": {
    "collapsed": false,
    "ExecuteTime": {
     "end_time": "2023-12-04T16:23:39.284830Z",
     "start_time": "2023-12-04T16:23:39.270466Z"
    }
   },
   "id": "a0d51cc73df853e9"
  },
  {
   "cell_type": "markdown",
   "source": [
    "# PHYS 541 Final Project: The Cracker Barrel Peg Game\n",
    "## Name: Jacob Buchanan\n",
    "\n",
    "If you've ever been to a Cracker Barrel, you've probably made an attempt at the peg game. It's pretty straightforward. You have a triangle with some pegs and one open space to start. You have to jump all the pegs and get as few as you can at the end. It's difficult to get a good solution (I always end up doing worse the more I try). I'd like to study this game a bit by writing a simulation of it.\n",
    "\n",
    "The triangle nature of this game makes simulating it somewhat tricky. I'll use a matrix and some defined Python classes to run this.\n",
    "\n",
    "First I'll define a \"space\" class. It can hold a peg object and keeps track of activity."
   ],
   "metadata": {
    "collapsed": false
   },
   "id": "fce921d5e6eea0ef"
  },
  {
   "cell_type": "code",
   "execution_count": 7,
   "id": "initial_id",
   "metadata": {
    "collapsed": true,
    "ExecuteTime": {
     "end_time": "2023-12-04T16:23:39.285419Z",
     "start_time": "2023-12-04T16:23:39.275479Z"
    }
   },
   "outputs": [],
   "source": [
    "class Space:\n",
    "    \n",
    "    def __init__(self, peg=None):\n",
    "        self.peg = peg"
   ]
  },
  {
   "cell_type": "markdown",
   "source": [
    "I'll now define a peg. It knows how many moves it has made and if it's still in the game."
   ],
   "metadata": {
    "collapsed": false
   },
   "id": "63c79eb069b5754c"
  },
  {
   "cell_type": "code",
   "execution_count": 8,
   "outputs": [],
   "source": [
    "class Peg:\n",
    "    def __init__(self):\n",
    "        self.num_moves = 0\n",
    "        self.in_game = True"
   ],
   "metadata": {
    "collapsed": false,
    "ExecuteTime": {
     "end_time": "2023-12-04T16:23:39.286346Z",
     "start_time": "2023-12-04T16:23:39.278998Z"
    }
   },
   "id": "5426a582962f5cd7"
  },
  {
   "cell_type": "markdown",
   "source": [
    "Now I'll define the board. This is effectively a matrix with 5 rows and n columns (where n is the row number)."
   ],
   "metadata": {
    "collapsed": false
   },
   "id": "1541ad2d1f7a9a62"
  },
  {
   "cell_type": "code",
   "execution_count": 14,
   "outputs": [
    {
     "name": "stdout",
     "output_type": "stream",
     "text": [
      "[[<__main__.Space object at 0x10ecd63d0>], [<__main__.Space object at 0x10ec97f50>, <__main__.Space object at 0x10ec97d90>], [<__main__.Space object at 0x10ec97990>, <__main__.Space object at 0x10ec97b90>, <__main__.Space object at 0x10ec97810>], [<__main__.Space object at 0x10ec97ad0>, <__main__.Space object at 0x10ec96e90>, <__main__.Space object at 0x10ec97e50>, <__main__.Space object at 0x10ec96f50>], [<__main__.Space object at 0x10ec97390>, <__main__.Space object at 0x10ec97850>, <__main__.Space object at 0x10ec97c90>, <__main__.Space object at 0x10ec97d50>, <__main__.Space object at 0x10ec961d0>]]\n",
      "0 0\n",
      "1 0\n",
      "1 1\n",
      "2 0\n",
      "2 1\n",
      "2 2\n",
      "3 0\n",
      "3 1\n",
      "3 2\n",
      "3 3\n",
      "4 0\n",
      "4 1\n",
      "4 2\n",
      "4 3\n",
      "4 4\n"
     ]
    }
   ],
   "source": [
    "class Board:\n",
    "    def __init__(self):\n",
    "        self.board = [\n",
    "            [Space()],\n",
    "            [Space(), Space()],\n",
    "            [Space(), Space(), Space()],\n",
    "            [Space(), Space(), Space(), Space()],\n",
    "            [Space(), Space(), Space(), Space(), Space()],\n",
    "        ]\n",
    "\n",
    "    def setup_board(self, empty_pos=(0,0)):\n",
    "        for i in range(len(self.board)):\n",
    "            for j in range(len(self.board[i])):\n",
    "                print(i, j)\n",
    "\n",
    "board = Board()\n",
    "print(board.board)\n",
    "board.setup_board()"
   ],
   "metadata": {
    "collapsed": false,
    "ExecuteTime": {
     "end_time": "2023-12-04T16:28:29.246479Z",
     "start_time": "2023-12-04T16:28:29.242570Z"
    }
   },
   "id": "c62b172ae4986ae7"
  },
  {
   "cell_type": "code",
   "execution_count": null,
   "outputs": [],
   "source": [],
   "metadata": {
    "collapsed": false,
    "ExecuteTime": {
     "start_time": "2023-12-04T16:23:39.300958Z"
    }
   },
   "id": "e41749f9354284dd"
  }
 ],
 "metadata": {
  "kernelspec": {
   "display_name": "Python 3",
   "language": "python",
   "name": "python3"
  },
  "language_info": {
   "codemirror_mode": {
    "name": "ipython",
    "version": 2
   },
   "file_extension": ".py",
   "mimetype": "text/x-python",
   "name": "python",
   "nbconvert_exporter": "python",
   "pygments_lexer": "ipython2",
   "version": "2.7.6"
  }
 },
 "nbformat": 4,
 "nbformat_minor": 5
}
