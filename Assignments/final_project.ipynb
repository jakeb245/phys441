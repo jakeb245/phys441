{
 "cells": [
  {
   "cell_type": "code",
   "execution_count": 1,
   "outputs": [],
   "source": [
    "import numpy as np\n",
    "import matplotlib.pyplot as plt"
   ],
   "metadata": {
    "collapsed": false,
    "ExecuteTime": {
     "end_time": "2023-12-05T21:47:41.114255Z",
     "start_time": "2023-12-05T21:47:40.760184Z"
    }
   },
   "id": "a0d51cc73df853e9"
  },
  {
   "cell_type": "markdown",
   "source": [
    "# PHYS 541 Final Project: The Cracker Barrel Peg Game\n",
    "## Name: Jacob Buchanan\n",
    "\n",
    "If you've ever been to a Cracker Barrel, you've probably made an attempt at the peg game. It's pretty straightforward. You have a triangle with some pegs and one open space to start. You have to jump over all the pegs and get as few as you can at the end. It's difficult to get a good solution (I always end up doing worse the more I try). I'd like to study this game a bit by writing a simulation of it.\n",
    "\n",
    "This game is more officially titled \"Peg Solitaire\", and it dates back to 1697. Traditionally the boards are much larger, but the triangular version that Cracker Barrel has is easier to work with. See the Wikipedia article: https://en.wikipedia.org/wiki/Peg_solitaire\n",
    "\n",
    "I'll define the board as a matrix (i x j) where j = i. I'll wrap up all the functionality into a few classes. You could run this without classes, but it'll be easier to use them to store information.\n",
    "\n",
    "First I'll define a \"space\" class. It knows its own status: is there a peg in it, and which peg?"
   ],
   "metadata": {
    "collapsed": false
   },
   "id": "fce921d5e6eea0ef"
  },
  {
   "cell_type": "code",
   "execution_count": 2,
   "id": "initial_id",
   "metadata": {
    "collapsed": true,
    "ExecuteTime": {
     "end_time": "2023-12-05T21:47:41.117857Z",
     "start_time": "2023-12-05T21:47:41.115318Z"
    }
   },
   "outputs": [],
   "source": [
    "class Space:\n",
    "    def __init__(self, peg=None):\n",
    "        \"\"\"\n",
    "        Initialize a space object\n",
    "        :param peg: Peg object, can be blank if no peg\n",
    "        \"\"\"\n",
    "        self.peg = peg\n",
    "    \n",
    "    def set_peg(self, peg, reset=False):\n",
    "        \"\"\"\n",
    "        Setter for peg. Throws RuntimeError if you try to put two pegs in one space.\n",
    "        :param peg: Peg object \n",
    "        :param reset: Boolean to override peg checking\n",
    "        :return: none\n",
    "        \"\"\"\n",
    "        if self.has_peg() and not reset: raise RuntimeError\n",
    "        self.peg = peg\n",
    "        \n",
    "    def remove_peg(self):\n",
    "        \"\"\"\n",
    "        Removes and return the peg object\n",
    "        :return: Peg object previously stored\n",
    "        \"\"\"\n",
    "        peg = self.peg\n",
    "        self.peg = None\n",
    "        return peg\n",
    "\n",
    "    def has_peg(self):\n",
    "        \"\"\"\n",
    "        Does this space contain a peg?\n",
    "        :return: \n",
    "        \"\"\"\n",
    "        if self.peg is not None:\n",
    "            return True\n",
    "        else:\n",
    "            return False"
   ]
  },
  {
   "cell_type": "markdown",
   "source": [
    "I'll now define a peg. There are a lot of possibilities for this, but I'm not going to take them."
   ],
   "metadata": {
    "collapsed": false
   },
   "id": "63c79eb069b5754c"
  },
  {
   "cell_type": "code",
   "execution_count": 3,
   "outputs": [],
   "source": [
    "class Peg:\n",
    "    \"\"\"\n",
    "    Peg object. Could be used to track each peg.\n",
    "    \"\"\"\n",
    "    def __init__(self):\n",
    "        pass"
   ],
   "metadata": {
    "collapsed": false,
    "ExecuteTime": {
     "end_time": "2023-12-05T21:47:41.121449Z",
     "start_time": "2023-12-05T21:47:41.118785Z"
    }
   },
   "id": "5426a582962f5cd7"
  },
  {
   "cell_type": "markdown",
   "source": [
    "I'll define a move, which takes the initial and final point. It can print out what it does."
   ],
   "metadata": {
    "collapsed": false
   },
   "id": "37d4c9bbd02d70e1"
  },
  {
   "cell_type": "code",
   "execution_count": 4,
   "outputs": [],
   "source": [
    "class Move:\n",
    "    def __init__(self, p1, p2):\n",
    "        \"\"\"\n",
    "        Initialize a move object\n",
    "        :param p1: (x,y) tuple representing initial position\n",
    "        :param p2: (x,y) tuple representing final position\n",
    "        \"\"\"\n",
    "        self.p1 = p1\n",
    "        self.p2 = p2\n",
    "    \n",
    "    def __str__(self):\n",
    "        return f\"Move peg at {self.p1} to {self.p2} which jumps over {self.jump_coord()}\"\n",
    "    \n",
    "    def jump_coord(self):\n",
    "        \"\"\"\n",
    "        gets the coordinate that the move jumps over\n",
    "        :return: (x,y) of jumped position\n",
    "        \"\"\"\n",
    "        diff_x = self.p2[0] - self.p1[0]\n",
    "        if diff_x > 0:\n",
    "            jumped_x = self.p2[0] - 1\n",
    "        elif diff_x < 0:\n",
    "            jumped_x = self.p2[0] + 1\n",
    "        else:\n",
    "            jumped_x = self.p2[0]\n",
    "        diff_y = self.p2[1] - self.p1[1]\n",
    "        if diff_y > 0:\n",
    "            jumped_y = self.p2[1] - 1\n",
    "        elif diff_y < 0:\n",
    "            jumped_y = self.p2[1] + 1\n",
    "        else:\n",
    "            jumped_y = self.p2[1]\n",
    "        return jumped_x, jumped_y"
   ],
   "metadata": {
    "collapsed": false,
    "ExecuteTime": {
     "end_time": "2023-12-05T21:47:41.125166Z",
     "start_time": "2023-12-05T21:47:41.122885Z"
    }
   },
   "id": "7cbf3fbbb2fbc68c"
  },
  {
   "cell_type": "markdown",
   "source": [
    "Now I'll define the board. This is effectively a matrix with 5 rows and n columns (where n is the row number)."
   ],
   "metadata": {
    "collapsed": false
   },
   "id": "1541ad2d1f7a9a62"
  },
  {
   "cell_type": "code",
   "execution_count": 5,
   "outputs": [],
   "source": [
    "class Board:\n",
    "    def __init__(self, empty_point=(0,0)):\n",
    "        \"\"\"\n",
    "        Initializes the board. Must provide an x and y position for the empty space\n",
    "        :param empty_point: (x,y) tuple\n",
    "        \"\"\"\n",
    "        self.board = [\n",
    "            [Space()],\n",
    "            [Space(), Space()],\n",
    "            [Space(), Space(), Space()],\n",
    "            [Space(), Space(), Space(), Space()],\n",
    "            [Space(), Space(), Space(), Space(), Space()],\n",
    "        ]\n",
    "        self.setup_board(empty_point)\n",
    "        self.current_moves = []\n",
    "        self.move_history = []\n",
    "        self.start = empty_point\n",
    "\n",
    "    def setup_board(self, empty_pos=(0,0), reset=False):\n",
    "        \"\"\"\n",
    "        Sets up the board by adding the pegs (except for the empty space).\n",
    "        :param empty_pos: (x,y) tuple\n",
    "        :param reset: Boolean, if resetting game\n",
    "        :return: None\n",
    "        \"\"\"\n",
    "        empty_space = False\n",
    "        for i in range(len(self.board)):\n",
    "            for j in range(len(self.board[i])):\n",
    "                if not (i,j) == empty_pos:\n",
    "                    self.board[i][j].set_peg(Peg(), reset=reset)\n",
    "                else:\n",
    "                    empty_space = True\n",
    "        if not empty_space:\n",
    "            raise ValueError(\"One empty space required\")\n",
    "        \n",
    "    def get_space(self, p):\n",
    "        \"\"\"\n",
    "        Returns the Space object at some point (or none)\n",
    "        :param p: (x,y) tuple\n",
    "        :return: Space object if valid space, or None\n",
    "        \"\"\"\n",
    "        if p in self:\n",
    "            return self.board[p[0]][p[1]]\n",
    "        else:\n",
    "            return None\n",
    "        \n",
    "    def check_move(self, move):\n",
    "        \"\"\"\n",
    "        Checks a move from p1 to p2 (assuming the jump spacing is valid)\n",
    "        :param move: Move containing points\n",
    "        :return: Boolean\n",
    "        \"\"\"\n",
    "        if (move.p1 in self) and (move.p2 in self):\n",
    "            if self.get_space(move.p1).has_peg():\n",
    "                if not self.get_space(move.p2).has_peg():\n",
    "                    if self.get_space(move.jump_coord()).has_peg():\n",
    "                        return True\n",
    "        return False\n",
    "        \n",
    "    def get_moves(self):\n",
    "        \"\"\"\n",
    "        Gets the possible moves based on the current state of the board.\n",
    "        :return: List of Move objects\n",
    "        \"\"\"\n",
    "        moves = []\n",
    "        for i in range(len(self.board)):\n",
    "            for j in range(len(self.board[i])):\n",
    "                if self.board[i][j].has_peg():\n",
    "                    # It has a peg, can it move?\n",
    "                    for dx in (-2, 0, 2):\n",
    "                        for dy in (-2, 0, 2):\n",
    "                            move = Move((i,j),(i+dx,j+dy))\n",
    "                            # Peg must move\n",
    "                            if (dx, dy) == (0, 0):\n",
    "                                continue\n",
    "                            # No negative values\n",
    "                            elif (i+dx < 0) or (j+dy < 0):\n",
    "                                continue\n",
    "                            elif dx*dy < 0:\n",
    "                                continue\n",
    "                            elif not self.check_move(move):\n",
    "                                continue\n",
    "                            else:\n",
    "                                moves.append(move)\n",
    "        self.current_moves = moves\n",
    "        return moves\n",
    "    \n",
    "    def execute_move(self, move, record=True):\n",
    "        \"\"\"\n",
    "        Changes the state of the board based on the provided Move. Can be recorded for future use\n",
    "        :param move: Move object\n",
    "        :param record: Boolean; True places the move in self.move_history\n",
    "        :return: None\n",
    "        \"\"\"\n",
    "        if self.check_move(move):\n",
    "            # Remove peg at jump coord\n",
    "            jump_coord = move.jump_coord()\n",
    "            self.get_space(jump_coord).remove_peg()\n",
    "            # Move peg\n",
    "            peg = self.get_space(move.p1).remove_peg()\n",
    "            self.get_space(move.p2).set_peg(peg)\n",
    "            if record:\n",
    "                self.move_history.append(move)\n",
    "            \n",
    "    def num_pegs(self):\n",
    "        \"\"\"\n",
    "        Gets the number of pegs in the game at the current step\n",
    "        :return: number of pegs (integer)\n",
    "        \"\"\"\n",
    "        n = 0\n",
    "        for i in range(len(self.board)):\n",
    "            for j in range(len(self.board[i])):\n",
    "                if self.get_space((i, j)).has_peg():\n",
    "                    n += 1\n",
    "        return n\n",
    "    \n",
    "    def print_game(self):\n",
    "        \"\"\"\n",
    "        Resets the board and replays the game based on the move history. Prints board at each step.\n",
    "        :return: None\n",
    "        \"\"\"\n",
    "        self.setup_board(self.start, reset=True)\n",
    "        print(self)\n",
    "        for move in self.move_history:\n",
    "            print(move)\n",
    "            self.execute_move(move, record=False)\n",
    "            print(self)\n",
    "        \n",
    "    def __str__(self):\n",
    "        \"\"\"\n",
    "        Peg = 1, no peg = 0\n",
    "        :return: None\n",
    "        \"\"\"\n",
    "        output = \"\"\n",
    "        for row in self.board:\n",
    "            for space in row:\n",
    "                if space.has_peg():\n",
    "                    output += \"1 \"\n",
    "                else:\n",
    "                    output += \"0 \"\n",
    "            output += \"\\n\"\n",
    "        return output\n",
    "    \n",
    "    def __contains__(self, item):\n",
    "        \"\"\"\n",
    "        Check if coordinate is within the bounds of the board\n",
    "        :param item: A tuple (x,y)\n",
    "        :return: True or False\n",
    "        \"\"\"\n",
    "        try:\n",
    "            p = self.board[item[0]][item[1]]\n",
    "            return True\n",
    "        except IndexError:\n",
    "            return False"
   ],
   "metadata": {
    "collapsed": false,
    "ExecuteTime": {
     "end_time": "2023-12-05T21:47:41.133666Z",
     "start_time": "2023-12-05T21:47:41.126263Z"
    }
   },
   "id": "c62b172ae4986ae7"
  },
  {
   "cell_type": "markdown",
   "source": [
    "Ok, now I'll try to run a simulation with this stuff. Here's a function to run the game with uniform probabilities for each possible move. "
   ],
   "metadata": {
    "collapsed": false
   },
   "id": "fbba5b073bf0f36e"
  },
  {
   "cell_type": "code",
   "execution_count": 6,
   "outputs": [],
   "source": [
    "def run_game(x0, y0):\n",
    "    \"\"\"\n",
    "    Run the game with the initial space at p0 = (x0,y0)\n",
    "    :param x0: x coordinate of empty space\n",
    "    :param y0: y coordinate of empty space\n",
    "    :return: (board object, number of moves)\n",
    "    \"\"\"\n",
    "    n_moves = 0\n",
    "    board = Board((x0,y0))\n",
    "    moves = board.get_moves()\n",
    "    while len(moves) != 0:\n",
    "        prob = 1 / len(moves)\n",
    "        prob_array = np.zeros(len(moves))\n",
    "        prob_array += prob\n",
    "        move_choice = np.random.choice(moves, p=prob_array)\n",
    "        board.execute_move(move_choice)\n",
    "        n_moves += 1\n",
    "        moves = board.get_moves()\n",
    "    return board, n_moves"
   ],
   "metadata": {
    "collapsed": false,
    "ExecuteTime": {
     "end_time": "2023-12-05T21:47:41.142713Z",
     "start_time": "2023-12-05T21:47:41.134830Z"
    }
   },
   "id": "1517631d91b67fee"
  },
  {
   "cell_type": "markdown",
   "source": [
    "Let's run this 1000 times and see what happens"
   ],
   "metadata": {
    "collapsed": false
   },
   "id": "2fbd4916509e268"
  },
  {
   "cell_type": "code",
   "execution_count": 7,
   "outputs": [
    {
     "data": {
      "text/plain": "<Figure size 900x600 with 2 Axes>",
      "image/png": "[encoded data removed]"
     },
     "metadata": {},
     "output_type": "display_data"
    }
   ],
   "source": [
    "n_sims = 1000\n",
    "moves = []\n",
    "pegs = []\n",
    "for i in range(n_sims):\n",
    "    game = run_game(2,0)\n",
    "    moves.append(game[1])\n",
    "    pegs.append(game[0].num_pegs())\n",
    "\n",
    "fig, ax = plt.subplots(1, 2, figsize=(9,6))\n",
    "ax[0].hist(moves, bins=len(set(moves)))\n",
    "ax[0].set_title(\"Number of moves\")\n",
    "ax[0].set_xlabel(\"Moves\")\n",
    "ax[0].set_ylabel(\"Count\")\n",
    "ax[1].hist(pegs, bins=len(set(pegs)))\n",
    "ax[1].set_title(\"Number of pegs left\")\n",
    "ax[1].set_xlabel(\"Pegs left\")\n",
    "ax[1].set_ylabel(\"Count\")\n",
    "\n",
    "plt.show()"
   ],
   "metadata": {
    "collapsed": false,
    "ExecuteTime": {
     "end_time": "2023-12-05T21:47:41.855556Z",
     "start_time": "2023-12-05T21:47:41.523097Z"
    }
   },
   "id": "e41749f9354284dd"
  },
  {
   "cell_type": "markdown",
   "source": [
    "Cool, it works. It looks like it's quite unlikely to leave one peg "
   ],
   "metadata": {
    "collapsed": false
   },
   "id": "1285daaf0b911900"
  },
  {
   "cell_type": "code",
   "execution_count": 8,
   "outputs": [],
   "source": [
    "def run_many_games(x0, y0, n_sims):\n",
    "    \"\"\"\n",
    "    Runs the game at (x0,y0) starting space n_sims times.\n",
    "    Returns the average number of pegs remaining per game.\n",
    "    Also returns the board with one peg.\n",
    "    :param x0: x coord of empty space\n",
    "    :param y0: y coord of empty space\n",
    "    :param n_sims: number of simulations to run\n",
    "    :return: (Average number of pegs, list of Boards with 1 peg remaining)\n",
    "    \"\"\"\n",
    "    moves = []\n",
    "    pegs = []\n",
    "    good_games = []\n",
    "    for i in range(n_sims):\n",
    "        game = run_game(x0,y0)\n",
    "        moves.append(game[1])\n",
    "        pegs.append(game[0].num_pegs())\n",
    "        if game[0].num_pegs() == 1:\n",
    "            good_games.append(game[0])\n",
    "    return np.average(pegs), good_games"
   ],
   "metadata": {
    "collapsed": false,
    "ExecuteTime": {
     "end_time": "2023-12-05T21:47:41.858838Z",
     "start_time": "2023-12-05T21:47:41.854879Z"
    }
   },
   "id": "a73e37761d0ca8ec"
  },
  {
   "cell_type": "markdown",
   "source": [
    "Now let's do that for each starting space. We'll see which space has the best odds of getting a good result."
   ],
   "metadata": {
    "collapsed": false
   },
   "id": "84c11391b4136722"
  },
  {
   "cell_type": "code",
   "execution_count": 9,
   "outputs": [
    {
     "name": "stdout",
     "output_type": "stream",
     "text": [
      "1 \n",
      "1 1 \n",
      "1 1 0 \n",
      "1 1 1 1 \n",
      "1 1 1 1 1 \n"
     ]
    }
   ],
   "source": [
    "pegs = {}\n",
    "winning_games = []\n",
    "\n",
    "for x in range(5):\n",
    "    for y in range(5):\n",
    "        if x >= y:\n",
    "            # Valid space\n",
    "            pegs[(x,y)], win = run_many_games(x,y,n_sims)\n",
    "            winning_games.extend(win)\n",
    "\n",
    "best = min(pegs, key=pegs.get)\n",
    "print(Board((best[0], best[1])))"
   ],
   "metadata": {
    "collapsed": false,
    "ExecuteTime": {
     "end_time": "2023-12-05T21:47:49.520554Z",
     "start_time": "2023-12-05T21:47:42.304039Z"
    }
   },
   "id": "c5c74be4c755f161"
  },
  {
   "cell_type": "markdown",
   "source": [
    "This is supposedly the best starting board, which makes sense at it has the most initial moves. The board is symmetrical so you could rotate this."
   ],
   "metadata": {
    "collapsed": false
   },
   "id": "1d3a61825a85f1cd"
  },
  {
   "cell_type": "code",
   "execution_count": 10,
   "outputs": [
    {
     "data": {
      "text/plain": "<Figure size 640x480 with 1 Axes>",
      "image/png": "[encoded data removed]"
     },
     "metadata": {},
     "output_type": "display_data"
    }
   ],
   "source": [
    "x = []\n",
    "y= []\n",
    "avgs = []\n",
    "\n",
    "for p, avg in pegs.items():\n",
    "    x.append(p[0])\n",
    "    y.append(p[1])\n",
    "    avgs.append(avg)\n",
    "\n",
    "fig, ax = plt.subplots(subplot_kw=dict(projection='3d'))\n",
    "ax.stem(x, y, avgs)\n",
    "ax.set_xlabel('x')\n",
    "ax.set_ylabel('y')\n",
    "ax.set_zlabel('Average number of pegs')  # Not working???\n",
    "\n",
    "plt.show()"
   ],
   "metadata": {
    "collapsed": false,
    "ExecuteTime": {
     "end_time": "2023-12-05T21:47:49.569946Z",
     "start_time": "2023-12-05T21:47:49.527378Z"
    }
   },
   "id": "b2c438c932e48377"
  },
  {
   "cell_type": "markdown",
   "source": [
    "There's not much difference between the number of pegs left on average, which is a good thing for a game."
   ],
   "metadata": {
    "collapsed": false
   },
   "id": "e96274dfb6dc8479"
  },
  {
   "cell_type": "markdown",
   "source": [
    "Now I'll print out a winning game based on the requested starting position."
   ],
   "metadata": {
    "collapsed": false
   },
   "id": "6844ea998a0df6f0"
  },
  {
   "cell_type": "code",
   "execution_count": 11,
   "outputs": [
    {
     "name": "stdout",
     "output_type": "stream",
     "text": [
      "1 \n",
      "0 1 \n",
      "1 1 1 \n",
      "1 1 1 1 \n",
      "1 1 1 1 1 \n",
      "\n",
      "Move peg at (3, 0) to (1, 0) which jumps over (2, 0)\n",
      "1 \n",
      "1 1 \n",
      "0 1 1 \n",
      "0 1 1 1 \n",
      "1 1 1 1 1 \n",
      "\n",
      "Move peg at (3, 2) to (3, 0) which jumps over (3, 1)\n",
      "1 \n",
      "1 1 \n",
      "0 1 1 \n",
      "1 0 0 1 \n",
      "1 1 1 1 1 \n",
      "\n",
      "Move peg at (0, 0) to (2, 0) which jumps over (1, 0)\n",
      "0 \n",
      "0 1 \n",
      "1 1 1 \n",
      "1 0 0 1 \n",
      "1 1 1 1 1 \n",
      "\n",
      "Move peg at (1, 1) to (3, 1) which jumps over (2, 1)\n",
      "0 \n",
      "0 0 \n",
      "1 0 1 \n",
      "1 1 0 1 \n",
      "1 1 1 1 1 \n",
      "\n",
      "Move peg at (3, 3) to (1, 1) which jumps over (2, 2)\n",
      "0 \n",
      "0 1 \n",
      "1 0 0 \n",
      "1 1 0 0 \n",
      "1 1 1 1 1 \n",
      "\n",
      "Move peg at (4, 1) to (2, 1) which jumps over (3, 1)\n",
      "0 \n",
      "0 1 \n",
      "1 1 0 \n",
      "1 0 0 0 \n",
      "1 0 1 1 1 \n",
      "\n",
      "Move peg at (4, 3) to (4, 1) which jumps over (4, 2)\n",
      "0 \n",
      "0 1 \n",
      "1 1 0 \n",
      "1 0 0 0 \n",
      "1 1 0 0 1 \n",
      "\n",
      "Move peg at (3, 0) to (1, 0) which jumps over (2, 0)\n",
      "0 \n",
      "1 1 \n",
      "0 1 0 \n",
      "0 0 0 0 \n",
      "1 1 0 0 1 \n",
      "\n",
      "Move peg at (1, 0) to (3, 2) which jumps over (2, 1)\n",
      "0 \n",
      "0 1 \n",
      "0 0 0 \n",
      "0 0 1 0 \n",
      "1 1 0 0 1 \n",
      "\n",
      "Move peg at (4, 0) to (4, 2) which jumps over (4, 1)\n",
      "0 \n",
      "0 1 \n",
      "0 0 0 \n",
      "0 0 1 0 \n",
      "0 0 1 0 1 \n",
      "\n",
      "Move peg at (4, 2) to (2, 2) which jumps over (3, 2)\n",
      "0 \n",
      "0 1 \n",
      "0 0 1 \n",
      "0 0 0 0 \n",
      "0 0 0 0 1 \n",
      "\n",
      "Move peg at (1, 1) to (3, 3) which jumps over (2, 2)\n",
      "0 \n",
      "0 0 \n",
      "0 0 0 \n",
      "0 0 0 1 \n",
      "0 0 0 0 1 \n",
      "\n",
      "Move peg at (4, 4) to (2, 2) which jumps over (3, 3)\n",
      "0 \n",
      "0 0 \n",
      "0 0 1 \n",
      "0 0 0 0 \n",
      "0 0 0 0 0 \n"
     ]
    }
   ],
   "source": [
    "start = (1,0)  # TODO: Fix bug with (2,0) start point\n",
    "if len(winning_games) > 0:\n",
    "    for game in winning_games:\n",
    "        if game.start == start:\n",
    "            game.print_game()\n",
    "            break"
   ],
   "metadata": {
    "collapsed": false,
    "ExecuteTime": {
     "end_time": "2023-12-05T21:47:49.573345Z",
     "start_time": "2023-12-05T21:47:49.569595Z"
    }
   },
   "id": "4a6d63b30ad15187"
  },
  {
   "cell_type": "code",
   "execution_count": 11,
   "outputs": [],
   "source": [],
   "metadata": {
    "collapsed": false,
    "ExecuteTime": {
     "end_time": "2023-12-05T21:47:49.575663Z",
     "start_time": "2023-12-05T21:47:49.572419Z"
    }
   },
   "id": "b46cd597fa8aac35"
  }
 ],
 "metadata": {
  "kernelspec": {
   "display_name": "Python 3",
   "language": "python",
   "name": "python3"
  },
  "language_info": {
   "codemirror_mode": {
    "name": "ipython",
    "version": 2
   },
   "file_extension": ".py",
   "mimetype": "text/x-python",
   "name": "python",
   "nbconvert_exporter": "python",
   "pygments_lexer": "ipython2",
   "version": "2.7.6"
  }
 },
 "nbformat": 4,
 "nbformat_minor": 5
}
