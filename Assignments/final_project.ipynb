{
 "cells": [
  {
   "cell_type": "code",
   "execution_count": 22,
   "outputs": [],
   "source": [
    "import numpy as np\n",
    "import matplotlib as plt"
   ],
   "metadata": {
    "collapsed": false,
    "ExecuteTime": {
     "end_time": "2023-12-04T16:33:21.310619Z",
     "start_time": "2023-12-04T16:33:21.305471Z"
    }
   },
   "id": "a0d51cc73df853e9"
  },
  {
   "cell_type": "markdown",
   "source": [
    "# PHYS 541 Final Project: The Cracker Barrel Peg Game\n",
    "## Name: Jacob Buchanan\n",
    "\n",
    "If you've ever been to a Cracker Barrel, you've probably made an attempt at the peg game. It's pretty straightforward. You have a triangle with some pegs and one open space to start. You have to jump all the pegs and get as few as you can at the end. It's difficult to get a good solution (I always end up doing worse the more I try). I'd like to study this game a bit by writing a simulation of it.\n",
    "\n",
    "The triangle nature of this game makes simulating it somewhat tricky. I'll use a matrix and some defined Python classes to run this.\n",
    "\n",
    "First I'll define a \"space\" class. It can hold a peg object and keeps track of activity."
   ],
   "metadata": {
    "collapsed": false
   },
   "id": "fce921d5e6eea0ef"
  },
  {
   "cell_type": "code",
   "execution_count": 23,
   "id": "initial_id",
   "metadata": {
    "collapsed": true,
    "ExecuteTime": {
     "end_time": "2023-12-04T16:33:21.319232Z",
     "start_time": "2023-12-04T16:33:21.308696Z"
    }
   },
   "outputs": [],
   "source": [
    "class Space:\n",
    "    \n",
    "    def __init__(self, peg=None):\n",
    "        self.peg = peg\n",
    "    \n",
    "    def set_peg(self, peg):\n",
    "        self.peg = peg\n",
    "        \n",
    "    def has_peg(self):\n",
    "        if self.peg is not None:\n",
    "            return True\n",
    "        else:\n",
    "            return False"
   ]
  },
  {
   "cell_type": "markdown",
   "source": [
    "I'll now define a peg. It knows how many moves it has made and if it's still in the game."
   ],
   "metadata": {
    "collapsed": false
   },
   "id": "63c79eb069b5754c"
  },
  {
   "cell_type": "code",
   "execution_count": 24,
   "outputs": [],
   "source": [
    "class Peg:\n",
    "    def __init__(self, x, y):\n",
    "        self.num_moves = 0\n",
    "        self.in_game = True\n",
    "        self.x = x\n",
    "        self.y = y\n",
    "        \n",
    "    def move(self, to_x, to_y):\n",
    "        pass\n",
    "    \n",
    "    def remove(self):\n",
    "        self.in_game = False"
   ],
   "metadata": {
    "collapsed": false,
    "ExecuteTime": {
     "end_time": "2023-12-04T16:33:21.319804Z",
     "start_time": "2023-12-04T16:33:21.315372Z"
    }
   },
   "id": "5426a582962f5cd7"
  },
  {
   "cell_type": "markdown",
   "source": [
    "Now I'll define the board. This is effectively a matrix with 5 rows and n columns (where n is the row number)."
   ],
   "metadata": {
    "collapsed": false
   },
   "id": "1541ad2d1f7a9a62"
  },
  {
   "cell_type": "code",
   "execution_count": 36,
   "outputs": [
    {
     "name": "stdout",
     "output_type": "stream",
     "text": [
      "1 \n",
      "1 1 \n",
      "1 1 1 \n",
      "1 1 0 1 \n",
      "1 1 1 1 1 \n"
     ]
    }
   ],
   "source": [
    "class Board:\n",
    "    def __init__(self, empty_x=0, empty_y=0):\n",
    "        self.board = [\n",
    "            [Space()],\n",
    "            [Space(), Space()],\n",
    "            [Space(), Space(), Space()],\n",
    "            [Space(), Space(), Space(), Space()],\n",
    "            [Space(), Space(), Space(), Space(), Space()],\n",
    "        ]\n",
    "        self.setup_board((empty_x,empty_y))\n",
    "\n",
    "    def setup_board(self, empty_pos=(0,0)):\n",
    "        empty_space = False\n",
    "        for i in range(len(self.board)):\n",
    "            for j in range(len(self.board[i])):\n",
    "                if not (i,j) == empty_pos:\n",
    "                    self.board[i][j].set_peg(Peg())\n",
    "                else:\n",
    "                    empty_space = True\n",
    "        if not empty_space:\n",
    "            raise ValueError(\"One empty space required\")\n",
    "        \n",
    "    def get_moves(self):\n",
    "        moves = []\n",
    "        for i in range(len(self.board)):\n",
    "            for j in range(len(self.board[i])):\n",
    "                if self.board[i][j].has_peg():\n",
    "                    # It has a peg, can it move?\n",
    "                    for dx in (-2, 0, 2):\n",
    "                        for dy in (-2, 0, 2):\n",
    "                            pass\n",
    "                    \n",
    "    def __str__(self):\n",
    "        output = \"\"\n",
    "        for row in self.board:\n",
    "            for space in row:\n",
    "                if space.has_peg():\n",
    "                    output += \"1 \"\n",
    "                else:\n",
    "                    output += \"0 \"\n",
    "            output += \"\\n\"\n",
    "        return output\n",
    "\n",
    "board = Board(3,2)\n",
    "print(board)"
   ],
   "metadata": {
    "collapsed": false,
    "ExecuteTime": {
     "end_time": "2023-12-04T16:38:29.589617Z",
     "start_time": "2023-12-04T16:38:29.580053Z"
    }
   },
   "id": "c62b172ae4986ae7"
  },
  {
   "cell_type": "code",
   "execution_count": null,
   "outputs": [],
   "source": [],
   "metadata": {
    "collapsed": false,
    "ExecuteTime": {
     "end_time": "2023-12-04T16:33:21.335336Z",
     "start_time": "2023-12-04T16:33:21.333679Z"
    }
   },
   "id": "e41749f9354284dd"
  }
 ],
 "metadata": {
  "kernelspec": {
   "display_name": "Python 3",
   "language": "python",
   "name": "python3"
  },
  "language_info": {
   "codemirror_mode": {
    "name": "ipython",
    "version": 2
   },
   "file_extension": ".py",
   "mimetype": "text/x-python",
   "name": "python",
   "nbconvert_exporter": "python",
   "pygments_lexer": "ipython2",
   "version": "2.7.6"
  }
 },
 "nbformat": 4,
 "nbformat_minor": 5
}
