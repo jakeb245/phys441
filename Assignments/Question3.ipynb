{
 "cells": [
  {
   "cell_type": "code",
   "execution_count": 1,
   "outputs": [],
   "source": [
    "import numpy as np\n",
    "import matplotlib.pyplot as plt\n",
    "from scipy.optimize import curve_fit"
   ],
   "metadata": {
    "collapsed": false,
    "ExecuteTime": {
     "end_time": "2023-09-05T12:26:17.658423Z",
     "start_time": "2023-09-05T12:26:16.567326Z"
    }
   },
   "id": "e8ce14ac33406275"
  },
  {
   "cell_type": "markdown",
   "source": [
    "# Assignment 1 Question 3\n",
    "\n",
    "### a) Simulate the following function\n",
    "\n",
    "$$ v=a_0+a_1t+a_2\\sin{a_4t}+a_3\\cos{a_4t}$$\n",
    "\n",
    "Include Gaussian errors"
   ],
   "metadata": {
    "collapsed": false
   },
   "id": "fdb1540424d36fe9"
  },
  {
   "cell_type": "code",
   "execution_count": 2,
   "id": "initial_id",
   "metadata": {
    "collapsed": true,
    "ExecuteTime": {
     "end_time": "2023-09-05T12:27:30.104757Z",
     "start_time": "2023-09-05T12:27:30.076968Z"
    }
   },
   "outputs": [],
   "source": [
    "def fit_function(t, *params):\n",
    "    return params[0] + params[1]*t + params[2]*np.sin(params[4]*t) + params[3]*np.sin(params[4]*t)"
   ]
  },
  {
   "cell_type": "code",
   "execution_count": null,
   "outputs": [],
   "source": [],
   "metadata": {
    "collapsed": false
   },
   "id": "5be999e72e2de766"
  }
 ],
 "metadata": {
  "kernelspec": {
   "display_name": "Python 3",
   "language": "python",
   "name": "python3"
  },
  "language_info": {
   "codemirror_mode": {
    "name": "ipython",
    "version": 2
   },
   "file_extension": ".py",
   "mimetype": "text/x-python",
   "name": "python",
   "nbconvert_exporter": "python",
   "pygments_lexer": "ipython2",
   "version": "2.7.6"
  }
 },
 "nbformat": 4,
 "nbformat_minor": 5
}
